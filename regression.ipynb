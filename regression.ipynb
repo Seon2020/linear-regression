{
 "metadata": {
  "language_info": {
   "codemirror_mode": {
    "name": "ipython",
    "version": 3
   },
   "file_extension": ".py",
   "mimetype": "text/x-python",
   "name": "python",
   "nbconvert_exporter": "python",
   "pygments_lexer": "ipython3",
   "version": "3.9.0-final"
  },
  "orig_nbformat": 2,
  "kernelspec": {
   "name": "python3",
   "display_name": "Python 3.9.0 64-bit ('.venv')",
   "metadata": {
    "interpreter": {
     "hash": "690effa7b805214d3499ca88a6ec2e921c057dcc911cf7866d2bddac28fb40a6"
    }
   }
  }
 },
 "nbformat": 4,
 "nbformat_minor": 2,
 "cells": [
  {
   "source": [
    "# Exploratory Analysis with Linear Regressions\n",
    "### World Happiness in 2019 \n",
    "### Correlation Between Social Support and Happiness\n",
    "#### Sean Hawkins|1/23/2021"
   ],
   "cell_type": "markdown",
   "metadata": {}
  },
  {
   "cell_type": "code",
   "execution_count": 196,
   "metadata": {},
   "outputs": [],
   "source": [
    "import pandas as pd\n",
    "import matplotlib.pyplot as plt\n",
    "from sklearn.linear_model import LinearRegression \n",
    "from sklearn.model_selection import train_test_split\n"
   ]
  },
  {
   "cell_type": "code",
   "execution_count": 197,
   "metadata": {},
   "outputs": [
    {
     "output_type": "execute_result",
     "data": {
      "text/plain": [
       "  Country (region)  Ladder  SD of Ladder  Positive affect  Negative affect  \\\n",
       "0          Finland       1             4               41               10   \n",
       "1          Denmark       2            13               24               26   \n",
       "2           Norway       3             8               16               29   \n",
       "3          Iceland       4             9                3                3   \n",
       "4      Netherlands       5             1               12               25   \n",
       "\n",
       "   Social support  Freedom  Corruption  Generosity  Log of GDP\\r\\nper capita  \\\n",
       "0               2        5         4.0          47                      22.0   \n",
       "1               4        6         3.0          22                      14.0   \n",
       "2               3        3         8.0          11                       7.0   \n",
       "3               1        7        45.0           3                      15.0   \n",
       "4              15       19        12.0           7                      12.0   \n",
       "\n",
       "   Healthy life\\r\\nexpectancy  \n",
       "0                        27.0  \n",
       "1                        23.0  \n",
       "2                        12.0  \n",
       "3                        13.0  \n",
       "4                        18.0  "
      ],
      "text/html": "<div>\n<style scoped>\n    .dataframe tbody tr th:only-of-type {\n        vertical-align: middle;\n    }\n\n    .dataframe tbody tr th {\n        vertical-align: top;\n    }\n\n    .dataframe thead th {\n        text-align: right;\n    }\n</style>\n<table border=\"1\" class=\"dataframe\">\n  <thead>\n    <tr style=\"text-align: right;\">\n      <th></th>\n      <th>Country (region)</th>\n      <th>Ladder</th>\n      <th>SD of Ladder</th>\n      <th>Positive affect</th>\n      <th>Negative affect</th>\n      <th>Social support</th>\n      <th>Freedom</th>\n      <th>Corruption</th>\n      <th>Generosity</th>\n      <th>Log of GDP\\r\\nper capita</th>\n      <th>Healthy life\\r\\nexpectancy</th>\n    </tr>\n  </thead>\n  <tbody>\n    <tr>\n      <th>0</th>\n      <td>Finland</td>\n      <td>1</td>\n      <td>4</td>\n      <td>41</td>\n      <td>10</td>\n      <td>2</td>\n      <td>5</td>\n      <td>4.0</td>\n      <td>47</td>\n      <td>22.0</td>\n      <td>27.0</td>\n    </tr>\n    <tr>\n      <th>1</th>\n      <td>Denmark</td>\n      <td>2</td>\n      <td>13</td>\n      <td>24</td>\n      <td>26</td>\n      <td>4</td>\n      <td>6</td>\n      <td>3.0</td>\n      <td>22</td>\n      <td>14.0</td>\n      <td>23.0</td>\n    </tr>\n    <tr>\n      <th>2</th>\n      <td>Norway</td>\n      <td>3</td>\n      <td>8</td>\n      <td>16</td>\n      <td>29</td>\n      <td>3</td>\n      <td>3</td>\n      <td>8.0</td>\n      <td>11</td>\n      <td>7.0</td>\n      <td>12.0</td>\n    </tr>\n    <tr>\n      <th>3</th>\n      <td>Iceland</td>\n      <td>4</td>\n      <td>9</td>\n      <td>3</td>\n      <td>3</td>\n      <td>1</td>\n      <td>7</td>\n      <td>45.0</td>\n      <td>3</td>\n      <td>15.0</td>\n      <td>13.0</td>\n    </tr>\n    <tr>\n      <th>4</th>\n      <td>Netherlands</td>\n      <td>5</td>\n      <td>1</td>\n      <td>12</td>\n      <td>25</td>\n      <td>15</td>\n      <td>19</td>\n      <td>12.0</td>\n      <td>7</td>\n      <td>12.0</td>\n      <td>18.0</td>\n    </tr>\n  </tbody>\n</table>\n</div>"
     },
     "metadata": {},
     "execution_count": 197
    }
   ],
   "source": [
    "happiness = pd.read_csv('world-happiness-report-2019.csv')\n",
    "happiness.head()\n",
    "\n"
   ]
  },
  {
   "cell_type": "code",
   "execution_count": 198,
   "metadata": {},
   "outputs": [
    {
     "output_type": "execute_result",
     "data": {
      "text/plain": [
       "           Ladder  SD of Ladder  Positive affect  Negative affect  \\\n",
       "count  155.000000    155.000000       155.000000       155.000000   \n",
       "mean    78.819355     78.451613        78.000000        78.000000   \n",
       "std     45.146870     45.319815        44.888751        44.888751   \n",
       "min      1.000000      1.000000         1.000000         1.000000   \n",
       "25%     40.500000     39.500000        39.500000        39.500000   \n",
       "50%     79.000000     78.000000        78.000000        78.000000   \n",
       "75%    117.500000    117.500000       116.500000       116.500000   \n",
       "max    156.000000    156.000000       155.000000       155.000000   \n",
       "\n",
       "       Social support     Freedom  Corruption  Generosity  \\\n",
       "count      155.000000  155.000000  148.000000  155.000000   \n",
       "mean        78.000000   78.000000   74.500000   78.000000   \n",
       "std         44.888751   44.888751   42.868014   44.888751   \n",
       "min          1.000000    1.000000    1.000000    1.000000   \n",
       "25%         39.500000   39.500000   37.750000   39.500000   \n",
       "50%         78.000000   78.000000   74.500000   78.000000   \n",
       "75%        116.500000  116.500000  111.250000  116.500000   \n",
       "max        155.000000  155.000000  148.000000  155.000000   \n",
       "\n",
       "       Log of GDP\\r\\nper capita  Healthy life\\r\\nexpectancy  \n",
       "count                151.000000                  149.000000  \n",
       "mean                  77.000000                   75.718121  \n",
       "std                   43.734045                   43.509409  \n",
       "min                    2.000000                    1.000000  \n",
       "25%                   39.500000                   38.000000  \n",
       "50%                   77.000000                   76.000000  \n",
       "75%                  114.500000                  113.000000  \n",
       "max                  152.000000                  150.000000  "
      ],
      "text/html": "<div>\n<style scoped>\n    .dataframe tbody tr th:only-of-type {\n        vertical-align: middle;\n    }\n\n    .dataframe tbody tr th {\n        vertical-align: top;\n    }\n\n    .dataframe thead th {\n        text-align: right;\n    }\n</style>\n<table border=\"1\" class=\"dataframe\">\n  <thead>\n    <tr style=\"text-align: right;\">\n      <th></th>\n      <th>Ladder</th>\n      <th>SD of Ladder</th>\n      <th>Positive affect</th>\n      <th>Negative affect</th>\n      <th>Social support</th>\n      <th>Freedom</th>\n      <th>Corruption</th>\n      <th>Generosity</th>\n      <th>Log of GDP\\r\\nper capita</th>\n      <th>Healthy life\\r\\nexpectancy</th>\n    </tr>\n  </thead>\n  <tbody>\n    <tr>\n      <th>count</th>\n      <td>155.000000</td>\n      <td>155.000000</td>\n      <td>155.000000</td>\n      <td>155.000000</td>\n      <td>155.000000</td>\n      <td>155.000000</td>\n      <td>148.000000</td>\n      <td>155.000000</td>\n      <td>151.000000</td>\n      <td>149.000000</td>\n    </tr>\n    <tr>\n      <th>mean</th>\n      <td>78.819355</td>\n      <td>78.451613</td>\n      <td>78.000000</td>\n      <td>78.000000</td>\n      <td>78.000000</td>\n      <td>78.000000</td>\n      <td>74.500000</td>\n      <td>78.000000</td>\n      <td>77.000000</td>\n      <td>75.718121</td>\n    </tr>\n    <tr>\n      <th>std</th>\n      <td>45.146870</td>\n      <td>45.319815</td>\n      <td>44.888751</td>\n      <td>44.888751</td>\n      <td>44.888751</td>\n      <td>44.888751</td>\n      <td>42.868014</td>\n      <td>44.888751</td>\n      <td>43.734045</td>\n      <td>43.509409</td>\n    </tr>\n    <tr>\n      <th>min</th>\n      <td>1.000000</td>\n      <td>1.000000</td>\n      <td>1.000000</td>\n      <td>1.000000</td>\n      <td>1.000000</td>\n      <td>1.000000</td>\n      <td>1.000000</td>\n      <td>1.000000</td>\n      <td>2.000000</td>\n      <td>1.000000</td>\n    </tr>\n    <tr>\n      <th>25%</th>\n      <td>40.500000</td>\n      <td>39.500000</td>\n      <td>39.500000</td>\n      <td>39.500000</td>\n      <td>39.500000</td>\n      <td>39.500000</td>\n      <td>37.750000</td>\n      <td>39.500000</td>\n      <td>39.500000</td>\n      <td>38.000000</td>\n    </tr>\n    <tr>\n      <th>50%</th>\n      <td>79.000000</td>\n      <td>78.000000</td>\n      <td>78.000000</td>\n      <td>78.000000</td>\n      <td>78.000000</td>\n      <td>78.000000</td>\n      <td>74.500000</td>\n      <td>78.000000</td>\n      <td>77.000000</td>\n      <td>76.000000</td>\n    </tr>\n    <tr>\n      <th>75%</th>\n      <td>117.500000</td>\n      <td>117.500000</td>\n      <td>116.500000</td>\n      <td>116.500000</td>\n      <td>116.500000</td>\n      <td>116.500000</td>\n      <td>111.250000</td>\n      <td>116.500000</td>\n      <td>114.500000</td>\n      <td>113.000000</td>\n    </tr>\n    <tr>\n      <th>max</th>\n      <td>156.000000</td>\n      <td>156.000000</td>\n      <td>155.000000</td>\n      <td>155.000000</td>\n      <td>155.000000</td>\n      <td>155.000000</td>\n      <td>148.000000</td>\n      <td>155.000000</td>\n      <td>152.000000</td>\n      <td>150.000000</td>\n    </tr>\n  </tbody>\n</table>\n</div>"
     },
     "metadata": {},
     "execution_count": 198
    }
   ],
   "source": [
    "happiness.describe()"
   ]
  },
  {
   "cell_type": "code",
   "execution_count": 199,
   "metadata": {},
   "outputs": [
    {
     "output_type": "stream",
     "name": "stdout",
     "text": [
      "<class 'pandas.core.frame.DataFrame'>\nRangeIndex: 155 entries, 0 to 154\nData columns (total 11 columns):\n #   Column                    Non-Null Count  Dtype  \n---  ------                    --------------  -----  \n 0   Country (region)          155 non-null    object \n 1   Ladder                    155 non-null    int64  \n 2   SD of Ladder              155 non-null    int64  \n 3   Positive affect           155 non-null    int64  \n 4   Negative affect           155 non-null    int64  \n 5   Social support            155 non-null    int64  \n 6   Freedom                   155 non-null    int64  \n 7   Corruption                148 non-null    float64\n 8   Generosity                155 non-null    int64  \n 9   Log of GDP\nper capita    151 non-null    float64\n 10  Healthy life\nexpectancy  149 non-null    float64\ndtypes: float64(3), int64(7), object(1)\nmemory usage: 13.4+ KB\n"
     ]
    }
   ],
   "source": [
    "happiness.info()"
   ]
  },
  {
   "cell_type": "code",
   "execution_count": 200,
   "metadata": {},
   "outputs": [],
   "source": [
    "X = happiness['Social support'].values\n",
    "y = happiness['Ladder'].values"
   ]
  },
  {
   "cell_type": "code",
   "execution_count": 201,
   "metadata": {},
   "outputs": [
    {
     "output_type": "execute_result",
     "data": {
      "text/plain": [
       "array([[  2],\n",
       "       [  4],\n",
       "       [  3],\n",
       "       [  1],\n",
       "       [ 15],\n",
       "       [ 13],\n",
       "       [ 25],\n",
       "       [  5],\n",
       "       [ 20],\n",
       "       [ 31],\n",
       "       [  7],\n",
       "       [ 42],\n",
       "       [ 38],\n",
       "       [ 27],\n",
       "       [  9],\n",
       "       [  6],\n",
       "       [ 39],\n",
       "       [ 22],\n",
       "       [ 37],\n",
       "       [ 24],\n",
       "       [ 72],\n",
       "       [ 16],\n",
       "       [ 67],\n",
       "       [ 32],\n",
       "       [ 48],\n",
       "       [ 58],\n",
       "       [ 78],\n",
       "       [ 62],\n",
       "       [ 26],\n",
       "       [ 41],\n",
       "       [ 43],\n",
       "       [ 35],\n",
       "       [ 36],\n",
       "       [ 83],\n",
       "       [ 23],\n",
       "       [ 59],\n",
       "       [ 21],\n",
       "       [ 29],\n",
       "       [ 44],\n",
       "       [ 11],\n",
       "       [ 17],\n",
       "       [ 52],\n",
       "       [ 14],\n",
       "       [ 66],\n",
       "       [ 85],\n",
       "       [ 46],\n",
       "       [ 86],\n",
       "       [ 90],\n",
       "       [ 71],\n",
       "       [ 69],\n",
       "       [ 53],\n",
       "       [ 34],\n",
       "       [ 91],\n",
       "       [ 12],\n",
       "       [ 28],\n",
       "       [ 54],\n",
       "       [ 50],\n",
       "       [ 84],\n",
       "       [ 19],\n",
       "       [ 93],\n",
       "       [ 51],\n",
       "       [ 30],\n",
       "       [ 81],\n",
       "       [ 77],\n",
       "       [ 47],\n",
       "       [130],\n",
       "       [ 40],\n",
       "       [ 75],\n",
       "       [ 57],\n",
       "       [ 65],\n",
       "       [ 73],\n",
       "       [ 60],\n",
       "       [113],\n",
       "       [ 79],\n",
       "       [ 76],\n",
       "       [ 55],\n",
       "       [ 92],\n",
       "       [ 61],\n",
       "       [ 97],\n",
       "       [ 33],\n",
       "       [102],\n",
       "       [ 10],\n",
       "       [ 74],\n",
       "       [111],\n",
       "       [ 45],\n",
       "       [  8],\n",
       "       [101],\n",
       "       [139],\n",
       "       [104],\n",
       "       [ 89],\n",
       "       [ 94],\n",
       "       [108],\n",
       "       [ 64],\n",
       "       [ 68],\n",
       "       [129],\n",
       "       [ 18],\n",
       "       [132],\n",
       "       [137],\n",
       "       [ 87],\n",
       "       [ 88],\n",
       "       [153],\n",
       "       [138],\n",
       "       [ 95],\n",
       "       [120],\n",
       "       [ 63],\n",
       "       [133],\n",
       "       [ 49],\n",
       "       [109],\n",
       "       [ 82],\n",
       "       [106],\n",
       "       [145],\n",
       "       [ 70],\n",
       "       [140],\n",
       "       [116],\n",
       "       [117],\n",
       "       [134],\n",
       "       [136],\n",
       "       [147],\n",
       "       [125],\n",
       "       [123],\n",
       "       [ 99],\n",
       "       [122],\n",
       "       [121],\n",
       "       [126],\n",
       "       [124],\n",
       "       [107],\n",
       "       [112],\n",
       "       [135],\n",
       "       [ 80],\n",
       "       [ 96],\n",
       "       [141],\n",
       "       [ 56],\n",
       "       [119],\n",
       "       [103],\n",
       "       [114],\n",
       "       [118],\n",
       "       [115],\n",
       "       [149],\n",
       "       [142],\n",
       "       [127],\n",
       "       [143],\n",
       "       [128],\n",
       "       [ 98],\n",
       "       [152],\n",
       "       [110],\n",
       "       [146],\n",
       "       [105],\n",
       "       [154],\n",
       "       [150],\n",
       "       [100],\n",
       "       [144],\n",
       "       [131],\n",
       "       [151],\n",
       "       [155],\n",
       "       [148]])"
      ]
     },
     "metadata": {},
     "execution_count": 201
    }
   ],
   "source": [
    "X = X.reshape(-1, 1)\n",
    "X"
   ]
  },
  {
   "cell_type": "code",
   "execution_count": 202,
   "metadata": {},
   "outputs": [
    {
     "output_type": "execute_result",
     "data": {
      "text/plain": [
       "array([[  1],\n",
       "       [  2],\n",
       "       [  3],\n",
       "       [  4],\n",
       "       [  5],\n",
       "       [  6],\n",
       "       [  7],\n",
       "       [  8],\n",
       "       [  9],\n",
       "       [ 10],\n",
       "       [ 11],\n",
       "       [ 12],\n",
       "       [ 13],\n",
       "       [ 14],\n",
       "       [ 15],\n",
       "       [ 16],\n",
       "       [ 17],\n",
       "       [ 18],\n",
       "       [ 19],\n",
       "       [ 20],\n",
       "       [ 21],\n",
       "       [ 22],\n",
       "       [ 23],\n",
       "       [ 24],\n",
       "       [ 25],\n",
       "       [ 26],\n",
       "       [ 27],\n",
       "       [ 28],\n",
       "       [ 30],\n",
       "       [ 31],\n",
       "       [ 32],\n",
       "       [ 33],\n",
       "       [ 34],\n",
       "       [ 35],\n",
       "       [ 36],\n",
       "       [ 37],\n",
       "       [ 38],\n",
       "       [ 39],\n",
       "       [ 40],\n",
       "       [ 41],\n",
       "       [ 42],\n",
       "       [ 43],\n",
       "       [ 44],\n",
       "       [ 45],\n",
       "       [ 46],\n",
       "       [ 47],\n",
       "       [ 48],\n",
       "       [ 49],\n",
       "       [ 50],\n",
       "       [ 51],\n",
       "       [ 52],\n",
       "       [ 53],\n",
       "       [ 54],\n",
       "       [ 55],\n",
       "       [ 56],\n",
       "       [ 57],\n",
       "       [ 58],\n",
       "       [ 59],\n",
       "       [ 60],\n",
       "       [ 61],\n",
       "       [ 62],\n",
       "       [ 63],\n",
       "       [ 64],\n",
       "       [ 65],\n",
       "       [ 66],\n",
       "       [ 67],\n",
       "       [ 68],\n",
       "       [ 69],\n",
       "       [ 70],\n",
       "       [ 71],\n",
       "       [ 72],\n",
       "       [ 73],\n",
       "       [ 74],\n",
       "       [ 75],\n",
       "       [ 76],\n",
       "       [ 77],\n",
       "       [ 78],\n",
       "       [ 79],\n",
       "       [ 80],\n",
       "       [ 81],\n",
       "       [ 82],\n",
       "       [ 83],\n",
       "       [ 84],\n",
       "       [ 85],\n",
       "       [ 86],\n",
       "       [ 87],\n",
       "       [ 88],\n",
       "       [ 89],\n",
       "       [ 90],\n",
       "       [ 91],\n",
       "       [ 92],\n",
       "       [ 93],\n",
       "       [ 94],\n",
       "       [ 95],\n",
       "       [ 96],\n",
       "       [ 97],\n",
       "       [ 98],\n",
       "       [ 99],\n",
       "       [100],\n",
       "       [101],\n",
       "       [102],\n",
       "       [103],\n",
       "       [104],\n",
       "       [105],\n",
       "       [106],\n",
       "       [107],\n",
       "       [108],\n",
       "       [109],\n",
       "       [110],\n",
       "       [111],\n",
       "       [112],\n",
       "       [113],\n",
       "       [114],\n",
       "       [115],\n",
       "       [116],\n",
       "       [117],\n",
       "       [118],\n",
       "       [119],\n",
       "       [120],\n",
       "       [121],\n",
       "       [122],\n",
       "       [123],\n",
       "       [124],\n",
       "       [125],\n",
       "       [126],\n",
       "       [127],\n",
       "       [128],\n",
       "       [129],\n",
       "       [130],\n",
       "       [131],\n",
       "       [132],\n",
       "       [133],\n",
       "       [134],\n",
       "       [135],\n",
       "       [136],\n",
       "       [137],\n",
       "       [138],\n",
       "       [139],\n",
       "       [140],\n",
       "       [141],\n",
       "       [142],\n",
       "       [143],\n",
       "       [144],\n",
       "       [145],\n",
       "       [146],\n",
       "       [147],\n",
       "       [148],\n",
       "       [149],\n",
       "       [150],\n",
       "       [151],\n",
       "       [152],\n",
       "       [153],\n",
       "       [154],\n",
       "       [155],\n",
       "       [156]])"
      ]
     },
     "metadata": {},
     "execution_count": 202
    }
   ],
   "source": [
    "y = y.reshape(-1, 1)\n",
    "y"
   ]
  },
  {
   "cell_type": "code",
   "execution_count": 205,
   "metadata": {},
   "outputs": [],
   "source": [
    "# X feature = social support\n",
    "# y feature = happiness level \n",
    "x_train, x_test, y_train, y_test = train_test_split(X, y, train_size=.8, test_size=.2, random_state=100)\n"
   ]
  },
  {
   "cell_type": "code",
   "execution_count": 206,
   "metadata": {},
   "outputs": [
    {
     "output_type": "stream",
     "name": "stdout",
     "text": [
      "X_Train shape [(124, 1)]\nX_Test shape [(31, 1)]\ny_Train shape [(124, 1)]\ny_Test shape [(31, 1)]\n"
     ]
    }
   ],
   "source": [
    "# Print out some data\n",
    "print(f'X_Train shape [{x_train.shape}]')\n",
    "print(f'X_Test shape [{x_test.shape}]')\n",
    "print(f'y_Train shape [{y_train.shape}]')\n",
    "print(f'y_Test shape [{y_test.shape}]')"
   ]
  },
  {
   "cell_type": "code",
   "execution_count": 208,
   "metadata": {},
   "outputs": [
    {
     "output_type": "display_data",
     "data": {
      "text/plain": "<Figure size 432x288 with 1 Axes>",
      "image/svg+xml": "<?xml version=\"1.0\" encoding=\"utf-8\" standalone=\"no\"?>\n<!DOCTYPE svg PUBLIC \"-//W3C//DTD SVG 1.1//EN\"\n  \"http://www.w3.org/Graphics/SVG/1.1/DTD/svg11.dtd\">\n<!-- Created with matplotlib (https://matplotlib.org/) -->\n<svg height=\"277.314375pt\" version=\"1.1\" viewBox=\"0 0 450.331875 277.314375\" width=\"450.331875pt\" xmlns=\"http://www.w3.org/2000/svg\" xmlns:xlink=\"http://www.w3.org/1999/xlink\">\n <metadata>\n  <rdf:RDF xmlns:cc=\"http://creativecommons.org/ns#\" xmlns:dc=\"http://purl.org/dc/elements/1.1/\" xmlns:rdf=\"http://www.w3.org/1999/02/22-rdf-syntax-ns#\">\n   <cc:Work>\n    <dc:type rdf:resource=\"http://purl.org/dc/dcmitype/StillImage\"/>\n    <dc:date>2021-01-23T16:01:31.618564</dc:date>\n    <dc:format>image/svg+xml</dc:format>\n    <dc:creator>\n     <cc:Agent>\n      <dc:title>Matplotlib v3.3.3, https://matplotlib.org/</dc:title>\n     </cc:Agent>\n    </dc:creator>\n   </cc:Work>\n  </rdf:RDF>\n </metadata>\n <defs>\n  <style type=\"text/css\">*{stroke-linecap:butt;stroke-linejoin:round;}</style>\n </defs>\n <g id=\"figure_1\">\n  <g id=\"patch_1\">\n   <path d=\"M 0 277.314375 \nL 450.331875 277.314375 \nL 450.331875 0 \nL 0 0 \nz\n\" style=\"fill:none;\"/>\n  </g>\n  <g id=\"axes_1\">\n   <g id=\"patch_2\">\n    <path d=\"M 57.765937 239.758125 \nL 392.565938 239.758125 \nL 392.565938 22.318125 \nL 57.765937 22.318125 \nz\n\" style=\"fill:#ffffff;\"/>\n   </g>\n   <g id=\"PathCollection_1\">\n    <defs>\n     <path d=\"M 0 3 \nC 0.795609 3 1.55874 2.683901 2.12132 2.12132 \nC 2.683901 1.55874 3 0.795609 3 0 \nC 3 -0.795609 2.683901 -1.55874 2.12132 -2.12132 \nC 1.55874 -2.683901 0.795609 -3 0 -3 \nC -0.795609 -3 -1.55874 -2.683901 -2.12132 -2.12132 \nC -2.683901 -1.55874 -3 -0.795609 -3 0 \nC -3 0.795609 -2.683901 1.55874 -2.12132 2.12132 \nC -1.55874 2.683901 -0.795609 3 0 3 \nz\n\" id=\"m0697abc2a8\" style=\"stroke:#ff0000;\"/>\n    </defs>\n    <g clip-path=\"url(#p4a727fcf5f)\">\n     <use style=\"fill:#ff0000;stroke:#ff0000;\" x=\"343.749172\" xlink:href=\"#m0697abc2a8\" y=\"98.948397\"/>\n     <use style=\"fill:#ff0000;stroke:#ff0000;\" x=\"296.315878\" xlink:href=\"#m0697abc2a8\" y=\"56.589955\"/>\n     <use style=\"fill:#ff0000;stroke:#ff0000;\" x=\"146.110448\" xlink:href=\"#m0697abc2a8\" y=\"214.471419\"/>\n     <use style=\"fill:#ff0000;stroke:#ff0000;\" x=\"148.086835\" xlink:href=\"#m0697abc2a8\" y=\"209.337062\"/>\n     <use style=\"fill:#ff0000;stroke:#ff0000;\" x=\"126.346575\" xlink:href=\"#m0697abc2a8\" y=\"159.277086\"/>\n     <use style=\"fill:#ff0000;stroke:#ff0000;\" x=\"244.92981\" xlink:href=\"#m0697abc2a8\" y=\"101.515575\"/>\n     <use style=\"fill:#ff0000;stroke:#ff0000;\" x=\"240.977035\" xlink:href=\"#m0697abc2a8\" y=\"169.545799\"/>\n     <use style=\"fill:#ff0000;stroke:#ff0000;\" x=\"229.118712\" xlink:href=\"#m0697abc2a8\" y=\"64.29149\"/>\n     <use style=\"fill:#ff0000;stroke:#ff0000;\" x=\"323.9853\" xlink:href=\"#m0697abc2a8\" y=\"47.604831\"/>\n     <use style=\"fill:#ff0000;stroke:#ff0000;\" x=\"339.796398\" xlink:href=\"#m0697abc2a8\" y=\"79.694559\"/>\n     <use style=\"fill:#ff0000;stroke:#ff0000;\" x=\"310.150589\" xlink:href=\"#m0697abc2a8\" y=\"71.993025\"/>\n     <use style=\"fill:#ff0000;stroke:#ff0000;\" x=\"197.496516\" xlink:href=\"#m0697abc2a8\" y=\"110.500699\"/>\n     <use style=\"fill:#ff0000;stroke:#ff0000;\" x=\"302.24504\" xlink:href=\"#m0697abc2a8\" y=\"82.261738\"/>\n     <use style=\"fill:#ff0000;stroke:#ff0000;\" x=\"195.520129\" xlink:href=\"#m0697abc2a8\" y=\"95.097629\"/>\n     <use style=\"fill:#ff0000;stroke:#ff0000;\" x=\"199.472903\" xlink:href=\"#m0697abc2a8\" y=\"140.023249\"/>\n     <use style=\"fill:#ff0000;stroke:#ff0000;\" x=\"128.322962\" xlink:href=\"#m0697abc2a8\" y=\"181.098101\"/>\n     <use style=\"fill:#ff0000;stroke:#ff0000;\" x=\"120.417413\" xlink:href=\"#m0697abc2a8\" y=\"222.172954\"/>\n     <use style=\"fill:#ff0000;stroke:#ff0000;\" x=\"185.638193\" xlink:href=\"#m0697abc2a8\" y=\"197.78476\"/>\n     <use style=\"fill:#ff0000;stroke:#ff0000;\" x=\"102.629928\" xlink:href=\"#m0697abc2a8\" y=\"202.919117\"/>\n     <use style=\"fill:#ff0000;stroke:#ff0000;\" x=\"138.204899\" xlink:href=\"#m0697abc2a8\" y=\"163.127853\"/>\n     <use style=\"fill:#ff0000;stroke:#ff0000;\" x=\"331.890849\" xlink:href=\"#m0697abc2a8\" y=\"105.366342\"/>\n     <use style=\"fill:#ff0000;stroke:#ff0000;\" x=\"132.275737\" xlink:href=\"#m0697abc2a8\" y=\"218.322186\"/>\n     <use style=\"fill:#ff0000;stroke:#ff0000;\" x=\"134.252124\" xlink:href=\"#m0697abc2a8\" y=\"200.351938\"/>\n     <use style=\"fill:#ff0000;stroke:#ff0000;\" x=\"187.61458\" xlink:href=\"#m0697abc2a8\" y=\"183.66528\"/>\n     <use style=\"fill:#ff0000;stroke:#ff0000;\" x=\"217.260389\" xlink:href=\"#m0697abc2a8\" y=\"123.33659\"/>\n     <use style=\"fill:#ff0000;stroke:#ff0000;\" x=\"276.552006\" xlink:href=\"#m0697abc2a8\" y=\"115.635055\"/>\n     <use style=\"fill:#ff0000;stroke:#ff0000;\" x=\"181.685418\" xlink:href=\"#m0697abc2a8\" y=\"60.440722\"/>\n     <use style=\"fill:#ff0000;stroke:#ff0000;\" x=\"304.221427\" xlink:href=\"#m0697abc2a8\" y=\"55.306366\"/>\n     <use style=\"fill:#ff0000;stroke:#ff0000;\" x=\"300.268653\" xlink:href=\"#m0697abc2a8\" y=\"83.545327\"/>\n     <use style=\"fill:#ff0000;stroke:#ff0000;\" x=\"347.701947\" xlink:href=\"#m0697abc2a8\" y=\"84.828916\"/>\n     <use style=\"fill:#ff0000;stroke:#ff0000;\" x=\"314.103364\" xlink:href=\"#m0697abc2a8\" y=\"75.843792\"/>\n     <use style=\"fill:#ff0000;stroke:#ff0000;\" x=\"288.410329\" xlink:href=\"#m0697abc2a8\" y=\"43.754064\"/>\n     <use style=\"fill:#ff0000;stroke:#ff0000;\" x=\"159.945158\" xlink:href=\"#m0697abc2a8\" y=\"120.769412\"/>\n     <use style=\"fill:#ff0000;stroke:#ff0000;\" x=\"203.425678\" xlink:href=\"#m0697abc2a8\" y=\"201.635528\"/>\n     <use style=\"fill:#ff0000;stroke:#ff0000;\" x=\"246.906197\" xlink:href=\"#m0697abc2a8\" y=\"114.351466\"/>\n     <use style=\"fill:#ff0000;stroke:#ff0000;\" x=\"367.465819\" xlink:href=\"#m0697abc2a8\" y=\"38.619707\"/>\n     <use style=\"fill:#ff0000;stroke:#ff0000;\" x=\"235.047874\" xlink:href=\"#m0697abc2a8\" y=\"186.232458\"/>\n     <use style=\"fill:#ff0000;stroke:#ff0000;\" x=\"98.677154\" xlink:href=\"#m0697abc2a8\" y=\"174.680156\"/>\n     <use style=\"fill:#ff0000;stroke:#ff0000;\" x=\"329.914462\" xlink:href=\"#m0697abc2a8\" y=\"34.76894\"/>\n     <use style=\"fill:#ff0000;stroke:#ff0000;\" x=\"96.700766\" xlink:href=\"#m0697abc2a8\" y=\"223.456543\"/>\n     <use style=\"fill:#ff0000;stroke:#ff0000;\" x=\"112.511864\" xlink:href=\"#m0697abc2a8\" y=\"182.381691\"/>\n     <use style=\"fill:#ff0000;stroke:#ff0000;\" x=\"201.449291\" xlink:href=\"#m0697abc2a8\" y=\"173.396567\"/>\n     <use style=\"fill:#ff0000;stroke:#ff0000;\" x=\"250.858972\" xlink:href=\"#m0697abc2a8\" y=\"161.844264\"/>\n     <use style=\"fill:#ff0000;stroke:#ff0000;\" x=\"167.850707\" xlink:href=\"#m0697abc2a8\" y=\"92.530451\"/>\n     <use style=\"fill:#ff0000;stroke:#ff0000;\" x=\"86.81883\" xlink:href=\"#m0697abc2a8\" y=\"119.485823\"/>\n     <use style=\"fill:#ff0000;stroke:#ff0000;\" x=\"322.008913\" xlink:href=\"#m0697abc2a8\" y=\"50.172009\"/>\n     <use style=\"fill:#ff0000;stroke:#ff0000;\" x=\"84.842443\" xlink:href=\"#m0697abc2a8\" y=\"217.038597\"/>\n     <use style=\"fill:#ff0000;stroke:#ff0000;\" x=\"361.536658\" xlink:href=\"#m0697abc2a8\" y=\"78.41097\"/>\n     <use style=\"fill:#ff0000;stroke:#ff0000;\" x=\"215.284001\" xlink:href=\"#m0697abc2a8\" y=\"138.73966\"/>\n     <use style=\"fill:#ff0000;stroke:#ff0000;\" x=\"72.984119\" xlink:href=\"#m0697abc2a8\" y=\"226.023721\"/>\n     <use style=\"fill:#ff0000;stroke:#ff0000;\" x=\"252.835359\" xlink:href=\"#m0697abc2a8\" y=\"131.038125\"/>\n     <use style=\"fill:#ff0000;stroke:#ff0000;\" x=\"237.024261\" xlink:href=\"#m0697abc2a8\" y=\"155.426319\"/>\n     <use style=\"fill:#ff0000;stroke:#ff0000;\" x=\"298.292266\" xlink:href=\"#m0697abc2a8\" y=\"54.022777\"/>\n     <use style=\"fill:#ff0000;stroke:#ff0000;\" x=\"74.960507\" xlink:href=\"#m0697abc2a8\" y=\"229.874489\"/>\n     <use style=\"fill:#ff0000;stroke:#ff0000;\" x=\"262.717295\" xlink:href=\"#m0697abc2a8\" y=\"128.470947\"/>\n     <use style=\"fill:#ff0000;stroke:#ff0000;\" x=\"256.788133\" xlink:href=\"#m0697abc2a8\" y=\"113.067877\"/>\n     <use style=\"fill:#ff0000;stroke:#ff0000;\" x=\"290.386717\" xlink:href=\"#m0697abc2a8\" y=\"122.053001\"/>\n     <use style=\"fill:#ff0000;stroke:#ff0000;\" x=\"175.756256\" xlink:href=\"#m0697abc2a8\" y=\"164.411443\"/>\n     <use style=\"fill:#ff0000;stroke:#ff0000;\" x=\"183.661805\" xlink:href=\"#m0697abc2a8\" y=\"141.306838\"/>\n     <use style=\"fill:#ff0000;stroke:#ff0000;\" x=\"341.772785\" xlink:href=\"#m0697abc2a8\" y=\"104.082753\"/>\n     <use style=\"fill:#ff0000;stroke:#ff0000;\" x=\"106.582703\" xlink:href=\"#m0697abc2a8\" y=\"106.649931\"/>\n     <use style=\"fill:#ff0000;stroke:#ff0000;\" x=\"353.631109\" xlink:href=\"#m0697abc2a8\" y=\"48.88842\"/>\n     <use style=\"fill:#ff0000;stroke:#ff0000;\" x=\"124.370188\" xlink:href=\"#m0697abc2a8\" y=\"213.18783\"/>\n     <use style=\"fill:#ff0000;stroke:#ff0000;\" x=\"294.339491\" xlink:href=\"#m0697abc2a8\" y=\"136.172482\"/>\n     <use style=\"fill:#ff0000;stroke:#ff0000;\" x=\"114.488252\" xlink:href=\"#m0697abc2a8\" y=\"208.053473\"/>\n     <use style=\"fill:#ff0000;stroke:#ff0000;\" x=\"221.213163\" xlink:href=\"#m0697abc2a8\" y=\"133.605303\"/>\n     <use style=\"fill:#ff0000;stroke:#ff0000;\" x=\"357.583883\" xlink:href=\"#m0697abc2a8\" y=\"87.396094\"/>\n     <use style=\"fill:#ff0000;stroke:#ff0000;\" x=\"264.693682\" xlink:href=\"#m0697abc2a8\" y=\"46.321242\"/>\n     <use style=\"fill:#ff0000;stroke:#ff0000;\" x=\"274.575619\" xlink:href=\"#m0697abc2a8\" y=\"57.873544\"/>\n     <use style=\"fill:#ff0000;stroke:#ff0000;\" x=\"163.897933\" xlink:href=\"#m0697abc2a8\" y=\"146.441195\"/>\n     <use style=\"fill:#ff0000;stroke:#ff0000;\" x=\"144.13406\" xlink:href=\"#m0697abc2a8\" y=\"206.769884\"/>\n     <use style=\"fill:#ff0000;stroke:#ff0000;\" x=\"239.000648\" xlink:href=\"#m0697abc2a8\" y=\"172.112977\"/>\n     <use style=\"fill:#ff0000;stroke:#ff0000;\" x=\"157.968771\" xlink:href=\"#m0697abc2a8\" y=\"179.814512\"/>\n     <use style=\"fill:#ff0000;stroke:#ff0000;\" x=\"92.747992\" xlink:href=\"#m0697abc2a8\" y=\"178.530923\"/>\n     <use style=\"fill:#ff0000;stroke:#ff0000;\" x=\"320.032525\" xlink:href=\"#m0697abc2a8\" y=\"70.709436\"/>\n     <use style=\"fill:#ff0000;stroke:#ff0000;\" x=\"211.331227\" xlink:href=\"#m0697abc2a8\" y=\"166.978621\"/>\n     <use style=\"fill:#ff0000;stroke:#ff0000;\" x=\"155.992384\" xlink:href=\"#m0697abc2a8\" y=\"190.083225\"/>\n     <use style=\"fill:#ff0000;stroke:#ff0000;\" x=\"169.827095\" xlink:href=\"#m0697abc2a8\" y=\"156.709908\"/>\n     <use style=\"fill:#ff0000;stroke:#ff0000;\" x=\"193.543742\" xlink:href=\"#m0697abc2a8\" y=\"195.217582\"/>\n     <use style=\"fill:#ff0000;stroke:#ff0000;\" x=\"359.56027\" xlink:href=\"#m0697abc2a8\" y=\"42.470474\"/>\n     <use style=\"fill:#ff0000;stroke:#ff0000;\" x=\"223.18955\" xlink:href=\"#m0697abc2a8\" y=\"147.724784\"/>\n     <use style=\"fill:#ff0000;stroke:#ff0000;\" x=\"278.528393\" xlink:href=\"#m0697abc2a8\" y=\"41.186885\"/>\n     <use style=\"fill:#ff0000;stroke:#ff0000;\" x=\"118.441026\" xlink:href=\"#m0697abc2a8\" y=\"205.486295\"/>\n     <use style=\"fill:#ff0000;stroke:#ff0000;\" x=\"375.371368\" xlink:href=\"#m0697abc2a8\" y=\"39.903296\"/>\n     <use style=\"fill:#ff0000;stroke:#ff0000;\" x=\"333.867236\" xlink:href=\"#m0697abc2a8\" y=\"93.81404\"/>\n     <use style=\"fill:#ff0000;stroke:#ff0000;\" x=\"76.936894\" xlink:href=\"#m0697abc2a8\" y=\"227.30731\"/>\n     <use style=\"fill:#ff0000;stroke:#ff0000;\" x=\"272.599231\" xlink:href=\"#m0697abc2a8\" y=\"125.903768\"/>\n     <use style=\"fill:#ff0000;stroke:#ff0000;\" x=\"189.590967\" xlink:href=\"#m0697abc2a8\" y=\"137.456071\"/>\n     <use style=\"fill:#ff0000;stroke:#ff0000;\" x=\"177.732644\" xlink:href=\"#m0697abc2a8\" y=\"157.993497\"/>\n     <use style=\"fill:#ff0000;stroke:#ff0000;\" x=\"371.418594\" xlink:href=\"#m0697abc2a8\" y=\"45.037653\"/>\n     <use style=\"fill:#ff0000;stroke:#ff0000;\" x=\"130.29935\" xlink:href=\"#m0697abc2a8\" y=\"150.291962\"/>\n     <use style=\"fill:#ff0000;stroke:#ff0000;\" x=\"327.938074\" xlink:href=\"#m0697abc2a8\" y=\"145.157606\"/>\n     <use style=\"fill:#ff0000;stroke:#ff0000;\" x=\"248.882584\" xlink:href=\"#m0697abc2a8\" y=\"168.26221\"/>\n     <use style=\"fill:#ff0000;stroke:#ff0000;\" x=\"207.378452\" xlink:href=\"#m0697abc2a8\" y=\"165.695032\"/>\n     <use style=\"fill:#ff0000;stroke:#ff0000;\" x=\"80.889668\" xlink:href=\"#m0697abc2a8\" y=\"220.889365\"/>\n     <use style=\"fill:#ff0000;stroke:#ff0000;\" x=\"369.442207\" xlink:href=\"#m0697abc2a8\" y=\"33.485351\"/>\n     <use style=\"fill:#ff0000;stroke:#ff0000;\" x=\"254.811746\" xlink:href=\"#m0697abc2a8\" y=\"152.85914\"/>\n     <use style=\"fill:#ff0000;stroke:#ff0000;\" x=\"284.457555\" xlink:href=\"#m0697abc2a8\" y=\"111.784288\"/>\n     <use style=\"fill:#ff0000;stroke:#ff0000;\" x=\"100.653541\" xlink:href=\"#m0697abc2a8\" y=\"224.740132\"/>\n     <use style=\"fill:#ff0000;stroke:#ff0000;\" x=\"373.394981\" xlink:href=\"#m0697abc2a8\" y=\"100.231986\"/>\n     <use style=\"fill:#ff0000;stroke:#ff0000;\" x=\"260.740908\" xlink:href=\"#m0697abc2a8\" y=\"63.007901\"/>\n     <use style=\"fill:#ff0000;stroke:#ff0000;\" x=\"306.197815\" xlink:href=\"#m0697abc2a8\" y=\"59.157133\"/>\n     <use style=\"fill:#ff0000;stroke:#ff0000;\" x=\"233.071486\" xlink:href=\"#m0697abc2a8\" y=\"89.963273\"/>\n     <use style=\"fill:#ff0000;stroke:#ff0000;\" x=\"349.678334\" xlink:href=\"#m0697abc2a8\" y=\"61.724312\"/>\n     <use style=\"fill:#ff0000;stroke:#ff0000;\" x=\"270.622844\" xlink:href=\"#m0697abc2a8\" y=\"118.202234\"/>\n     <use style=\"fill:#ff0000;stroke:#ff0000;\" x=\"205.402065\" xlink:href=\"#m0697abc2a8\" y=\"109.21711\"/>\n     <use style=\"fill:#ff0000;stroke:#ff0000;\" x=\"365.489432\" xlink:href=\"#m0697abc2a8\" y=\"52.739188\"/>\n     <use style=\"fill:#ff0000;stroke:#ff0000;\" x=\"108.55909\" xlink:href=\"#m0697abc2a8\" y=\"154.142729\"/>\n     <use style=\"fill:#ff0000;stroke:#ff0000;\" x=\"171.803482\" xlink:href=\"#m0697abc2a8\" y=\"151.575551\"/>\n     <use style=\"fill:#ff0000;stroke:#ff0000;\" x=\"286.433942\" xlink:href=\"#m0697abc2a8\" y=\"91.246862\"/>\n     <use style=\"fill:#ff0000;stroke:#ff0000;\" x=\"377.347756\" xlink:href=\"#m0697abc2a8\" y=\"32.201761\"/>\n     <use style=\"fill:#ff0000;stroke:#ff0000;\" x=\"116.464639\" xlink:href=\"#m0697abc2a8\" y=\"184.948869\"/>\n     <use style=\"fill:#ff0000;stroke:#ff0000;\" x=\"88.795217\" xlink:href=\"#m0697abc2a8\" y=\"211.904241\"/>\n     <use style=\"fill:#ff0000;stroke:#ff0000;\" x=\"150.063222\" xlink:href=\"#m0697abc2a8\" y=\"143.874016\"/>\n     <use style=\"fill:#ff0000;stroke:#ff0000;\" x=\"94.724379\" xlink:href=\"#m0697abc2a8\" y=\"160.560675\"/>\n     <use style=\"fill:#ff0000;stroke:#ff0000;\" x=\"242.953423\" xlink:href=\"#m0697abc2a8\" y=\"102.799164\"/>\n     <use style=\"fill:#ff0000;stroke:#ff0000;\" x=\"325.961687\" xlink:href=\"#m0697abc2a8\" y=\"107.933521\"/>\n     <use style=\"fill:#ff0000;stroke:#ff0000;\" x=\"351.654721\" xlink:href=\"#m0697abc2a8\" y=\"51.455598\"/>\n     <use style=\"fill:#ff0000;stroke:#ff0000;\" x=\"136.228511\" xlink:href=\"#m0697abc2a8\" y=\"127.187358\"/>\n     <use style=\"fill:#ff0000;stroke:#ff0000;\" x=\"345.72556\" xlink:href=\"#m0697abc2a8\" y=\"116.918644\"/>\n     <use style=\"fill:#ff0000;stroke:#ff0000;\" x=\"308.174202\" xlink:href=\"#m0697abc2a8\" y=\"96.381218\"/>\n     <use style=\"fill:#ff0000;stroke:#ff0000;\" x=\"219.236776\" xlink:href=\"#m0697abc2a8\" y=\"142.590427\"/>\n     <use style=\"fill:#ff0000;stroke:#ff0000;\" x=\"165.87432\" xlink:href=\"#m0697abc2a8\" y=\"199.068349\"/>\n     <use style=\"fill:#ff0000;stroke:#ff0000;\" x=\"110.535477\" xlink:href=\"#m0697abc2a8\" y=\"219.605776\"/>\n    </g>\n   </g>\n   <g id=\"matplotlib.axis_1\">\n    <g id=\"xtick_1\">\n     <g id=\"line2d_1\">\n      <defs>\n       <path d=\"M 0 0 \nL 0 3.5 \n\" id=\"mc6570afed7\" style=\"stroke:#000000;stroke-width:0.8;\"/>\n      </defs>\n      <g>\n       <use style=\"stroke:#000000;stroke-width:0.8;\" x=\"71.007732\" xlink:href=\"#mc6570afed7\" y=\"239.758125\"/>\n      </g>\n     </g>\n     <g id=\"text_1\">\n      <!-- 0 -->\n      <g transform=\"translate(67.826482 254.356562)scale(0.1 -0.1)\">\n       <defs>\n        <path d=\"M 31.78125 66.40625 \nQ 24.171875 66.40625 20.328125 58.90625 \nQ 16.5 51.421875 16.5 36.375 \nQ 16.5 21.390625 20.328125 13.890625 \nQ 24.171875 6.390625 31.78125 6.390625 \nQ 39.453125 6.390625 43.28125 13.890625 \nQ 47.125 21.390625 47.125 36.375 \nQ 47.125 51.421875 43.28125 58.90625 \nQ 39.453125 66.40625 31.78125 66.40625 \nz\nM 31.78125 74.21875 \nQ 44.046875 74.21875 50.515625 64.515625 \nQ 56.984375 54.828125 56.984375 36.375 \nQ 56.984375 17.96875 50.515625 8.265625 \nQ 44.046875 -1.421875 31.78125 -1.421875 \nQ 19.53125 -1.421875 13.0625 8.265625 \nQ 6.59375 17.96875 6.59375 36.375 \nQ 6.59375 54.828125 13.0625 64.515625 \nQ 19.53125 74.21875 31.78125 74.21875 \nz\n\" id=\"DejaVuSans-48\"/>\n       </defs>\n       <use xlink:href=\"#DejaVuSans-48\"/>\n      </g>\n     </g>\n    </g>\n    <g id=\"xtick_2\">\n     <g id=\"line2d_2\">\n      <g>\n       <use style=\"stroke:#000000;stroke-width:0.8;\" x=\"110.535477\" xlink:href=\"#mc6570afed7\" y=\"239.758125\"/>\n      </g>\n     </g>\n     <g id=\"text_2\">\n      <!-- 20 -->\n      <g transform=\"translate(104.172977 254.356562)scale(0.1 -0.1)\">\n       <defs>\n        <path d=\"M 19.1875 8.296875 \nL 53.609375 8.296875 \nL 53.609375 0 \nL 7.328125 0 \nL 7.328125 8.296875 \nQ 12.9375 14.109375 22.625 23.890625 \nQ 32.328125 33.6875 34.8125 36.53125 \nQ 39.546875 41.84375 41.421875 45.53125 \nQ 43.3125 49.21875 43.3125 52.78125 \nQ 43.3125 58.59375 39.234375 62.25 \nQ 35.15625 65.921875 28.609375 65.921875 \nQ 23.96875 65.921875 18.8125 64.3125 \nQ 13.671875 62.703125 7.8125 59.421875 \nL 7.8125 69.390625 \nQ 13.765625 71.78125 18.9375 73 \nQ 24.125 74.21875 28.421875 74.21875 \nQ 39.75 74.21875 46.484375 68.546875 \nQ 53.21875 62.890625 53.21875 53.421875 \nQ 53.21875 48.921875 51.53125 44.890625 \nQ 49.859375 40.875 45.40625 35.40625 \nQ 44.1875 33.984375 37.640625 27.21875 \nQ 31.109375 20.453125 19.1875 8.296875 \nz\n\" id=\"DejaVuSans-50\"/>\n       </defs>\n       <use xlink:href=\"#DejaVuSans-50\"/>\n       <use x=\"63.623047\" xlink:href=\"#DejaVuSans-48\"/>\n      </g>\n     </g>\n    </g>\n    <g id=\"xtick_3\">\n     <g id=\"line2d_3\">\n      <g>\n       <use style=\"stroke:#000000;stroke-width:0.8;\" x=\"150.063222\" xlink:href=\"#mc6570afed7\" y=\"239.758125\"/>\n      </g>\n     </g>\n     <g id=\"text_3\">\n      <!-- 40 -->\n      <g transform=\"translate(143.700722 254.356562)scale(0.1 -0.1)\">\n       <defs>\n        <path d=\"M 37.796875 64.3125 \nL 12.890625 25.390625 \nL 37.796875 25.390625 \nz\nM 35.203125 72.90625 \nL 47.609375 72.90625 \nL 47.609375 25.390625 \nL 58.015625 25.390625 \nL 58.015625 17.1875 \nL 47.609375 17.1875 \nL 47.609375 0 \nL 37.796875 0 \nL 37.796875 17.1875 \nL 4.890625 17.1875 \nL 4.890625 26.703125 \nz\n\" id=\"DejaVuSans-52\"/>\n       </defs>\n       <use xlink:href=\"#DejaVuSans-52\"/>\n       <use x=\"63.623047\" xlink:href=\"#DejaVuSans-48\"/>\n      </g>\n     </g>\n    </g>\n    <g id=\"xtick_4\">\n     <g id=\"line2d_4\">\n      <g>\n       <use style=\"stroke:#000000;stroke-width:0.8;\" x=\"189.590967\" xlink:href=\"#mc6570afed7\" y=\"239.758125\"/>\n      </g>\n     </g>\n     <g id=\"text_4\">\n      <!-- 60 -->\n      <g transform=\"translate(183.228467 254.356562)scale(0.1 -0.1)\">\n       <defs>\n        <path d=\"M 33.015625 40.375 \nQ 26.375 40.375 22.484375 35.828125 \nQ 18.609375 31.296875 18.609375 23.390625 \nQ 18.609375 15.53125 22.484375 10.953125 \nQ 26.375 6.390625 33.015625 6.390625 \nQ 39.65625 6.390625 43.53125 10.953125 \nQ 47.40625 15.53125 47.40625 23.390625 \nQ 47.40625 31.296875 43.53125 35.828125 \nQ 39.65625 40.375 33.015625 40.375 \nz\nM 52.59375 71.296875 \nL 52.59375 62.3125 \nQ 48.875 64.0625 45.09375 64.984375 \nQ 41.3125 65.921875 37.59375 65.921875 \nQ 27.828125 65.921875 22.671875 59.328125 \nQ 17.53125 52.734375 16.796875 39.40625 \nQ 19.671875 43.65625 24.015625 45.921875 \nQ 28.375 48.1875 33.59375 48.1875 \nQ 44.578125 48.1875 50.953125 41.515625 \nQ 57.328125 34.859375 57.328125 23.390625 \nQ 57.328125 12.15625 50.6875 5.359375 \nQ 44.046875 -1.421875 33.015625 -1.421875 \nQ 20.359375 -1.421875 13.671875 8.265625 \nQ 6.984375 17.96875 6.984375 36.375 \nQ 6.984375 53.65625 15.1875 63.9375 \nQ 23.390625 74.21875 37.203125 74.21875 \nQ 40.921875 74.21875 44.703125 73.484375 \nQ 48.484375 72.75 52.59375 71.296875 \nz\n\" id=\"DejaVuSans-54\"/>\n       </defs>\n       <use xlink:href=\"#DejaVuSans-54\"/>\n       <use x=\"63.623047\" xlink:href=\"#DejaVuSans-48\"/>\n      </g>\n     </g>\n    </g>\n    <g id=\"xtick_5\">\n     <g id=\"line2d_5\">\n      <g>\n       <use style=\"stroke:#000000;stroke-width:0.8;\" x=\"229.118712\" xlink:href=\"#mc6570afed7\" y=\"239.758125\"/>\n      </g>\n     </g>\n     <g id=\"text_5\">\n      <!-- 80 -->\n      <g transform=\"translate(222.756212 254.356562)scale(0.1 -0.1)\">\n       <defs>\n        <path d=\"M 31.78125 34.625 \nQ 24.75 34.625 20.71875 30.859375 \nQ 16.703125 27.09375 16.703125 20.515625 \nQ 16.703125 13.921875 20.71875 10.15625 \nQ 24.75 6.390625 31.78125 6.390625 \nQ 38.8125 6.390625 42.859375 10.171875 \nQ 46.921875 13.96875 46.921875 20.515625 \nQ 46.921875 27.09375 42.890625 30.859375 \nQ 38.875 34.625 31.78125 34.625 \nz\nM 21.921875 38.8125 \nQ 15.578125 40.375 12.03125 44.71875 \nQ 8.5 49.078125 8.5 55.328125 \nQ 8.5 64.0625 14.71875 69.140625 \nQ 20.953125 74.21875 31.78125 74.21875 \nQ 42.671875 74.21875 48.875 69.140625 \nQ 55.078125 64.0625 55.078125 55.328125 \nQ 55.078125 49.078125 51.53125 44.71875 \nQ 48 40.375 41.703125 38.8125 \nQ 48.828125 37.15625 52.796875 32.3125 \nQ 56.78125 27.484375 56.78125 20.515625 \nQ 56.78125 9.90625 50.3125 4.234375 \nQ 43.84375 -1.421875 31.78125 -1.421875 \nQ 19.734375 -1.421875 13.25 4.234375 \nQ 6.78125 9.90625 6.78125 20.515625 \nQ 6.78125 27.484375 10.78125 32.3125 \nQ 14.796875 37.15625 21.921875 38.8125 \nz\nM 18.3125 54.390625 \nQ 18.3125 48.734375 21.84375 45.5625 \nQ 25.390625 42.390625 31.78125 42.390625 \nQ 38.140625 42.390625 41.71875 45.5625 \nQ 45.3125 48.734375 45.3125 54.390625 \nQ 45.3125 60.0625 41.71875 63.234375 \nQ 38.140625 66.40625 31.78125 66.40625 \nQ 25.390625 66.40625 21.84375 63.234375 \nQ 18.3125 60.0625 18.3125 54.390625 \nz\n\" id=\"DejaVuSans-56\"/>\n       </defs>\n       <use xlink:href=\"#DejaVuSans-56\"/>\n       <use x=\"63.623047\" xlink:href=\"#DejaVuSans-48\"/>\n      </g>\n     </g>\n    </g>\n    <g id=\"xtick_6\">\n     <g id=\"line2d_6\">\n      <g>\n       <use style=\"stroke:#000000;stroke-width:0.8;\" x=\"268.646457\" xlink:href=\"#mc6570afed7\" y=\"239.758125\"/>\n      </g>\n     </g>\n     <g id=\"text_6\">\n      <!-- 100 -->\n      <g transform=\"translate(259.102707 254.356562)scale(0.1 -0.1)\">\n       <defs>\n        <path d=\"M 12.40625 8.296875 \nL 28.515625 8.296875 \nL 28.515625 63.921875 \nL 10.984375 60.40625 \nL 10.984375 69.390625 \nL 28.421875 72.90625 \nL 38.28125 72.90625 \nL 38.28125 8.296875 \nL 54.390625 8.296875 \nL 54.390625 0 \nL 12.40625 0 \nz\n\" id=\"DejaVuSans-49\"/>\n       </defs>\n       <use xlink:href=\"#DejaVuSans-49\"/>\n       <use x=\"63.623047\" xlink:href=\"#DejaVuSans-48\"/>\n       <use x=\"127.246094\" xlink:href=\"#DejaVuSans-48\"/>\n      </g>\n     </g>\n    </g>\n    <g id=\"xtick_7\">\n     <g id=\"line2d_7\">\n      <g>\n       <use style=\"stroke:#000000;stroke-width:0.8;\" x=\"308.174202\" xlink:href=\"#mc6570afed7\" y=\"239.758125\"/>\n      </g>\n     </g>\n     <g id=\"text_7\">\n      <!-- 120 -->\n      <g transform=\"translate(298.630452 254.356562)scale(0.1 -0.1)\">\n       <use xlink:href=\"#DejaVuSans-49\"/>\n       <use x=\"63.623047\" xlink:href=\"#DejaVuSans-50\"/>\n       <use x=\"127.246094\" xlink:href=\"#DejaVuSans-48\"/>\n      </g>\n     </g>\n    </g>\n    <g id=\"xtick_8\">\n     <g id=\"line2d_8\">\n      <g>\n       <use style=\"stroke:#000000;stroke-width:0.8;\" x=\"347.701947\" xlink:href=\"#mc6570afed7\" y=\"239.758125\"/>\n      </g>\n     </g>\n     <g id=\"text_8\">\n      <!-- 140 -->\n      <g transform=\"translate(338.158197 254.356562)scale(0.1 -0.1)\">\n       <use xlink:href=\"#DejaVuSans-49\"/>\n       <use x=\"63.623047\" xlink:href=\"#DejaVuSans-52\"/>\n       <use x=\"127.246094\" xlink:href=\"#DejaVuSans-48\"/>\n      </g>\n     </g>\n    </g>\n    <g id=\"xtick_9\">\n     <g id=\"line2d_9\">\n      <g>\n       <use style=\"stroke:#000000;stroke-width:0.8;\" x=\"387.229692\" xlink:href=\"#mc6570afed7\" y=\"239.758125\"/>\n      </g>\n     </g>\n     <g id=\"text_9\">\n      <!-- 160 -->\n      <g transform=\"translate(377.685942 254.356562)scale(0.1 -0.1)\">\n       <use xlink:href=\"#DejaVuSans-49\"/>\n       <use x=\"63.623047\" xlink:href=\"#DejaVuSans-54\"/>\n       <use x=\"127.246094\" xlink:href=\"#DejaVuSans-48\"/>\n      </g>\n     </g>\n    </g>\n    <g id=\"text_10\">\n     <!-- Social Support -->\n     <g transform=\"translate(188.985469 268.034687)scale(0.1 -0.1)\">\n      <defs>\n       <path d=\"M 53.515625 70.515625 \nL 53.515625 60.890625 \nQ 47.90625 63.578125 42.921875 64.890625 \nQ 37.9375 66.21875 33.296875 66.21875 \nQ 25.25 66.21875 20.875 63.09375 \nQ 16.5 59.96875 16.5 54.203125 \nQ 16.5 49.359375 19.40625 46.890625 \nQ 22.3125 44.4375 30.421875 42.921875 \nL 36.375 41.703125 \nQ 47.40625 39.59375 52.65625 34.296875 \nQ 57.90625 29 57.90625 20.125 \nQ 57.90625 9.515625 50.796875 4.046875 \nQ 43.703125 -1.421875 29.984375 -1.421875 \nQ 24.8125 -1.421875 18.96875 -0.25 \nQ 13.140625 0.921875 6.890625 3.21875 \nL 6.890625 13.375 \nQ 12.890625 10.015625 18.65625 8.296875 \nQ 24.421875 6.59375 29.984375 6.59375 \nQ 38.421875 6.59375 43.015625 9.90625 \nQ 47.609375 13.234375 47.609375 19.390625 \nQ 47.609375 24.75 44.3125 27.78125 \nQ 41.015625 30.8125 33.5 32.328125 \nL 27.484375 33.5 \nQ 16.453125 35.6875 11.515625 40.375 \nQ 6.59375 45.0625 6.59375 53.421875 \nQ 6.59375 63.09375 13.40625 68.65625 \nQ 20.21875 74.21875 32.171875 74.21875 \nQ 37.3125 74.21875 42.625 73.28125 \nQ 47.953125 72.359375 53.515625 70.515625 \nz\n\" id=\"DejaVuSans-83\"/>\n       <path d=\"M 30.609375 48.390625 \nQ 23.390625 48.390625 19.1875 42.75 \nQ 14.984375 37.109375 14.984375 27.296875 \nQ 14.984375 17.484375 19.15625 11.84375 \nQ 23.34375 6.203125 30.609375 6.203125 \nQ 37.796875 6.203125 41.984375 11.859375 \nQ 46.1875 17.53125 46.1875 27.296875 \nQ 46.1875 37.015625 41.984375 42.703125 \nQ 37.796875 48.390625 30.609375 48.390625 \nz\nM 30.609375 56 \nQ 42.328125 56 49.015625 48.375 \nQ 55.71875 40.765625 55.71875 27.296875 \nQ 55.71875 13.875 49.015625 6.21875 \nQ 42.328125 -1.421875 30.609375 -1.421875 \nQ 18.84375 -1.421875 12.171875 6.21875 \nQ 5.515625 13.875 5.515625 27.296875 \nQ 5.515625 40.765625 12.171875 48.375 \nQ 18.84375 56 30.609375 56 \nz\n\" id=\"DejaVuSans-111\"/>\n       <path d=\"M 48.78125 52.59375 \nL 48.78125 44.1875 \nQ 44.96875 46.296875 41.140625 47.34375 \nQ 37.3125 48.390625 33.40625 48.390625 \nQ 24.65625 48.390625 19.8125 42.84375 \nQ 14.984375 37.3125 14.984375 27.296875 \nQ 14.984375 17.28125 19.8125 11.734375 \nQ 24.65625 6.203125 33.40625 6.203125 \nQ 37.3125 6.203125 41.140625 7.25 \nQ 44.96875 8.296875 48.78125 10.40625 \nL 48.78125 2.09375 \nQ 45.015625 0.34375 40.984375 -0.53125 \nQ 36.96875 -1.421875 32.421875 -1.421875 \nQ 20.0625 -1.421875 12.78125 6.34375 \nQ 5.515625 14.109375 5.515625 27.296875 \nQ 5.515625 40.671875 12.859375 48.328125 \nQ 20.21875 56 33.015625 56 \nQ 37.15625 56 41.109375 55.140625 \nQ 45.0625 54.296875 48.78125 52.59375 \nz\n\" id=\"DejaVuSans-99\"/>\n       <path d=\"M 9.421875 54.6875 \nL 18.40625 54.6875 \nL 18.40625 0 \nL 9.421875 0 \nz\nM 9.421875 75.984375 \nL 18.40625 75.984375 \nL 18.40625 64.59375 \nL 9.421875 64.59375 \nz\n\" id=\"DejaVuSans-105\"/>\n       <path d=\"M 34.28125 27.484375 \nQ 23.390625 27.484375 19.1875 25 \nQ 14.984375 22.515625 14.984375 16.5 \nQ 14.984375 11.71875 18.140625 8.90625 \nQ 21.296875 6.109375 26.703125 6.109375 \nQ 34.1875 6.109375 38.703125 11.40625 \nQ 43.21875 16.703125 43.21875 25.484375 \nL 43.21875 27.484375 \nz\nM 52.203125 31.203125 \nL 52.203125 0 \nL 43.21875 0 \nL 43.21875 8.296875 \nQ 40.140625 3.328125 35.546875 0.953125 \nQ 30.953125 -1.421875 24.3125 -1.421875 \nQ 15.921875 -1.421875 10.953125 3.296875 \nQ 6 8.015625 6 15.921875 \nQ 6 25.140625 12.171875 29.828125 \nQ 18.359375 34.515625 30.609375 34.515625 \nL 43.21875 34.515625 \nL 43.21875 35.40625 \nQ 43.21875 41.609375 39.140625 45 \nQ 35.0625 48.390625 27.6875 48.390625 \nQ 23 48.390625 18.546875 47.265625 \nQ 14.109375 46.140625 10.015625 43.890625 \nL 10.015625 52.203125 \nQ 14.9375 54.109375 19.578125 55.046875 \nQ 24.21875 56 28.609375 56 \nQ 40.484375 56 46.34375 49.84375 \nQ 52.203125 43.703125 52.203125 31.203125 \nz\n\" id=\"DejaVuSans-97\"/>\n       <path d=\"M 9.421875 75.984375 \nL 18.40625 75.984375 \nL 18.40625 0 \nL 9.421875 0 \nz\n\" id=\"DejaVuSans-108\"/>\n       <path id=\"DejaVuSans-32\"/>\n       <path d=\"M 8.5 21.578125 \nL 8.5 54.6875 \nL 17.484375 54.6875 \nL 17.484375 21.921875 \nQ 17.484375 14.15625 20.5 10.265625 \nQ 23.53125 6.390625 29.59375 6.390625 \nQ 36.859375 6.390625 41.078125 11.03125 \nQ 45.3125 15.671875 45.3125 23.6875 \nL 45.3125 54.6875 \nL 54.296875 54.6875 \nL 54.296875 0 \nL 45.3125 0 \nL 45.3125 8.40625 \nQ 42.046875 3.421875 37.71875 1 \nQ 33.40625 -1.421875 27.6875 -1.421875 \nQ 18.265625 -1.421875 13.375 4.4375 \nQ 8.5 10.296875 8.5 21.578125 \nz\nM 31.109375 56 \nz\n\" id=\"DejaVuSans-117\"/>\n       <path d=\"M 18.109375 8.203125 \nL 18.109375 -20.796875 \nL 9.078125 -20.796875 \nL 9.078125 54.6875 \nL 18.109375 54.6875 \nL 18.109375 46.390625 \nQ 20.953125 51.265625 25.265625 53.625 \nQ 29.59375 56 35.59375 56 \nQ 45.5625 56 51.78125 48.09375 \nQ 58.015625 40.1875 58.015625 27.296875 \nQ 58.015625 14.40625 51.78125 6.484375 \nQ 45.5625 -1.421875 35.59375 -1.421875 \nQ 29.59375 -1.421875 25.265625 0.953125 \nQ 20.953125 3.328125 18.109375 8.203125 \nz\nM 48.6875 27.296875 \nQ 48.6875 37.203125 44.609375 42.84375 \nQ 40.53125 48.484375 33.40625 48.484375 \nQ 26.265625 48.484375 22.1875 42.84375 \nQ 18.109375 37.203125 18.109375 27.296875 \nQ 18.109375 17.390625 22.1875 11.75 \nQ 26.265625 6.109375 33.40625 6.109375 \nQ 40.53125 6.109375 44.609375 11.75 \nQ 48.6875 17.390625 48.6875 27.296875 \nz\n\" id=\"DejaVuSans-112\"/>\n       <path d=\"M 41.109375 46.296875 \nQ 39.59375 47.171875 37.8125 47.578125 \nQ 36.03125 48 33.890625 48 \nQ 26.265625 48 22.1875 43.046875 \nQ 18.109375 38.09375 18.109375 28.8125 \nL 18.109375 0 \nL 9.078125 0 \nL 9.078125 54.6875 \nL 18.109375 54.6875 \nL 18.109375 46.1875 \nQ 20.953125 51.171875 25.484375 53.578125 \nQ 30.03125 56 36.53125 56 \nQ 37.453125 56 38.578125 55.875 \nQ 39.703125 55.765625 41.0625 55.515625 \nz\n\" id=\"DejaVuSans-114\"/>\n       <path d=\"M 18.3125 70.21875 \nL 18.3125 54.6875 \nL 36.8125 54.6875 \nL 36.8125 47.703125 \nL 18.3125 47.703125 \nL 18.3125 18.015625 \nQ 18.3125 11.328125 20.140625 9.421875 \nQ 21.96875 7.515625 27.59375 7.515625 \nL 36.8125 7.515625 \nL 36.8125 0 \nL 27.59375 0 \nQ 17.1875 0 13.234375 3.875 \nQ 9.28125 7.765625 9.28125 18.015625 \nL 9.28125 47.703125 \nL 2.6875 47.703125 \nL 2.6875 54.6875 \nL 9.28125 54.6875 \nL 9.28125 70.21875 \nz\n\" id=\"DejaVuSans-116\"/>\n      </defs>\n      <use xlink:href=\"#DejaVuSans-83\"/>\n      <use x=\"63.476562\" xlink:href=\"#DejaVuSans-111\"/>\n      <use x=\"124.658203\" xlink:href=\"#DejaVuSans-99\"/>\n      <use x=\"179.638672\" xlink:href=\"#DejaVuSans-105\"/>\n      <use x=\"207.421875\" xlink:href=\"#DejaVuSans-97\"/>\n      <use x=\"268.701172\" xlink:href=\"#DejaVuSans-108\"/>\n      <use x=\"296.484375\" xlink:href=\"#DejaVuSans-32\"/>\n      <use x=\"328.271484\" xlink:href=\"#DejaVuSans-83\"/>\n      <use x=\"391.748047\" xlink:href=\"#DejaVuSans-117\"/>\n      <use x=\"455.126953\" xlink:href=\"#DejaVuSans-112\"/>\n      <use x=\"518.603516\" xlink:href=\"#DejaVuSans-112\"/>\n      <use x=\"582.080078\" xlink:href=\"#DejaVuSans-111\"/>\n      <use x=\"643.261719\" xlink:href=\"#DejaVuSans-114\"/>\n      <use x=\"684.375\" xlink:href=\"#DejaVuSans-116\"/>\n     </g>\n    </g>\n   </g>\n   <g id=\"matplotlib.axis_2\">\n    <g id=\"ytick_1\">\n     <g id=\"line2d_10\">\n      <defs>\n       <path d=\"M 0 0 \nL -3.5 0 \n\" id=\"mcb3549ddb3\" style=\"stroke:#000000;stroke-width:0.8;\"/>\n      </defs>\n      <g>\n       <use style=\"stroke:#000000;stroke-width:0.8;\" x=\"57.765937\" xlink:href=\"#mcb3549ddb3\" y=\"231.158078\"/>\n      </g>\n     </g>\n     <g id=\"text_11\">\n      <!-- 0 -->\n      <g transform=\"translate(44.403437 234.957297)scale(0.1 -0.1)\">\n       <use xlink:href=\"#DejaVuSans-48\"/>\n      </g>\n     </g>\n    </g>\n    <g id=\"ytick_2\">\n     <g id=\"line2d_11\">\n      <g>\n       <use style=\"stroke:#000000;stroke-width:0.8;\" x=\"57.765937\" xlink:href=\"#mcb3549ddb3\" y=\"205.486295\"/>\n      </g>\n     </g>\n     <g id=\"text_12\">\n      <!-- 20 -->\n      <g transform=\"translate(38.040937 209.285514)scale(0.1 -0.1)\">\n       <use xlink:href=\"#DejaVuSans-50\"/>\n       <use x=\"63.623047\" xlink:href=\"#DejaVuSans-48\"/>\n      </g>\n     </g>\n    </g>\n    <g id=\"ytick_3\">\n     <g id=\"line2d_12\">\n      <g>\n       <use style=\"stroke:#000000;stroke-width:0.8;\" x=\"57.765937\" xlink:href=\"#mcb3549ddb3\" y=\"179.814512\"/>\n      </g>\n     </g>\n     <g id=\"text_13\">\n      <!-- 40 -->\n      <g transform=\"translate(38.040937 183.613731)scale(0.1 -0.1)\">\n       <use xlink:href=\"#DejaVuSans-52\"/>\n       <use x=\"63.623047\" xlink:href=\"#DejaVuSans-48\"/>\n      </g>\n     </g>\n    </g>\n    <g id=\"ytick_4\">\n     <g id=\"line2d_13\">\n      <g>\n       <use style=\"stroke:#000000;stroke-width:0.8;\" x=\"57.765937\" xlink:href=\"#mcb3549ddb3\" y=\"154.142729\"/>\n      </g>\n     </g>\n     <g id=\"text_14\">\n      <!-- 60 -->\n      <g transform=\"translate(38.040937 157.941948)scale(0.1 -0.1)\">\n       <use xlink:href=\"#DejaVuSans-54\"/>\n       <use x=\"63.623047\" xlink:href=\"#DejaVuSans-48\"/>\n      </g>\n     </g>\n    </g>\n    <g id=\"ytick_5\">\n     <g id=\"line2d_14\">\n      <g>\n       <use style=\"stroke:#000000;stroke-width:0.8;\" x=\"57.765937\" xlink:href=\"#mcb3549ddb3\" y=\"128.470947\"/>\n      </g>\n     </g>\n     <g id=\"text_15\">\n      <!-- 80 -->\n      <g transform=\"translate(38.040937 132.270165)scale(0.1 -0.1)\">\n       <use xlink:href=\"#DejaVuSans-56\"/>\n       <use x=\"63.623047\" xlink:href=\"#DejaVuSans-48\"/>\n      </g>\n     </g>\n    </g>\n    <g id=\"ytick_6\">\n     <g id=\"line2d_15\">\n      <g>\n       <use style=\"stroke:#000000;stroke-width:0.8;\" x=\"57.765937\" xlink:href=\"#mcb3549ddb3\" y=\"102.799164\"/>\n      </g>\n     </g>\n     <g id=\"text_16\">\n      <!-- 100 -->\n      <g transform=\"translate(31.678437 106.598383)scale(0.1 -0.1)\">\n       <use xlink:href=\"#DejaVuSans-49\"/>\n       <use x=\"63.623047\" xlink:href=\"#DejaVuSans-48\"/>\n       <use x=\"127.246094\" xlink:href=\"#DejaVuSans-48\"/>\n      </g>\n     </g>\n    </g>\n    <g id=\"ytick_7\">\n     <g id=\"line2d_16\">\n      <g>\n       <use style=\"stroke:#000000;stroke-width:0.8;\" x=\"57.765937\" xlink:href=\"#mcb3549ddb3\" y=\"77.127381\"/>\n      </g>\n     </g>\n     <g id=\"text_17\">\n      <!-- 120 -->\n      <g transform=\"translate(31.678437 80.9266)scale(0.1 -0.1)\">\n       <use xlink:href=\"#DejaVuSans-49\"/>\n       <use x=\"63.623047\" xlink:href=\"#DejaVuSans-50\"/>\n       <use x=\"127.246094\" xlink:href=\"#DejaVuSans-48\"/>\n      </g>\n     </g>\n    </g>\n    <g id=\"ytick_8\">\n     <g id=\"line2d_17\">\n      <g>\n       <use style=\"stroke:#000000;stroke-width:0.8;\" x=\"57.765937\" xlink:href=\"#mcb3549ddb3\" y=\"51.455598\"/>\n      </g>\n     </g>\n     <g id=\"text_18\">\n      <!-- 140 -->\n      <g transform=\"translate(31.678437 55.254817)scale(0.1 -0.1)\">\n       <use xlink:href=\"#DejaVuSans-49\"/>\n       <use x=\"63.623047\" xlink:href=\"#DejaVuSans-52\"/>\n       <use x=\"127.246094\" xlink:href=\"#DejaVuSans-48\"/>\n      </g>\n     </g>\n    </g>\n    <g id=\"ytick_9\">\n     <g id=\"line2d_18\">\n      <g>\n       <use style=\"stroke:#000000;stroke-width:0.8;\" x=\"57.765937\" xlink:href=\"#mcb3549ddb3\" y=\"25.783816\"/>\n      </g>\n     </g>\n     <g id=\"text_19\">\n      <!-- 160 -->\n      <g transform=\"translate(31.678437 29.583034)scale(0.1 -0.1)\">\n       <use xlink:href=\"#DejaVuSans-49\"/>\n       <use x=\"63.623047\" xlink:href=\"#DejaVuSans-54\"/>\n       <use x=\"127.246094\" xlink:href=\"#DejaVuSans-48\"/>\n      </g>\n     </g>\n    </g>\n    <g id=\"text_20\">\n     <!-- Happiness -->\n     <g transform=\"translate(25.59875 157.054531)rotate(-90)scale(0.1 -0.1)\">\n      <defs>\n       <path d=\"M 9.8125 72.90625 \nL 19.671875 72.90625 \nL 19.671875 43.015625 \nL 55.515625 43.015625 \nL 55.515625 72.90625 \nL 65.375 72.90625 \nL 65.375 0 \nL 55.515625 0 \nL 55.515625 34.71875 \nL 19.671875 34.71875 \nL 19.671875 0 \nL 9.8125 0 \nz\n\" id=\"DejaVuSans-72\"/>\n       <path d=\"M 54.890625 33.015625 \nL 54.890625 0 \nL 45.90625 0 \nL 45.90625 32.71875 \nQ 45.90625 40.484375 42.875 44.328125 \nQ 39.84375 48.1875 33.796875 48.1875 \nQ 26.515625 48.1875 22.3125 43.546875 \nQ 18.109375 38.921875 18.109375 30.90625 \nL 18.109375 0 \nL 9.078125 0 \nL 9.078125 54.6875 \nL 18.109375 54.6875 \nL 18.109375 46.1875 \nQ 21.34375 51.125 25.703125 53.5625 \nQ 30.078125 56 35.796875 56 \nQ 45.21875 56 50.046875 50.171875 \nQ 54.890625 44.34375 54.890625 33.015625 \nz\n\" id=\"DejaVuSans-110\"/>\n       <path d=\"M 56.203125 29.59375 \nL 56.203125 25.203125 \nL 14.890625 25.203125 \nQ 15.484375 15.921875 20.484375 11.0625 \nQ 25.484375 6.203125 34.421875 6.203125 \nQ 39.59375 6.203125 44.453125 7.46875 \nQ 49.3125 8.734375 54.109375 11.28125 \nL 54.109375 2.78125 \nQ 49.265625 0.734375 44.1875 -0.34375 \nQ 39.109375 -1.421875 33.890625 -1.421875 \nQ 20.796875 -1.421875 13.15625 6.1875 \nQ 5.515625 13.8125 5.515625 26.8125 \nQ 5.515625 40.234375 12.765625 48.109375 \nQ 20.015625 56 32.328125 56 \nQ 43.359375 56 49.78125 48.890625 \nQ 56.203125 41.796875 56.203125 29.59375 \nz\nM 47.21875 32.234375 \nQ 47.125 39.59375 43.09375 43.984375 \nQ 39.0625 48.390625 32.421875 48.390625 \nQ 24.90625 48.390625 20.390625 44.140625 \nQ 15.875 39.890625 15.1875 32.171875 \nz\n\" id=\"DejaVuSans-101\"/>\n       <path d=\"M 44.28125 53.078125 \nL 44.28125 44.578125 \nQ 40.484375 46.53125 36.375 47.5 \nQ 32.28125 48.484375 27.875 48.484375 \nQ 21.1875 48.484375 17.84375 46.4375 \nQ 14.5 44.390625 14.5 40.28125 \nQ 14.5 37.15625 16.890625 35.375 \nQ 19.28125 33.59375 26.515625 31.984375 \nL 29.59375 31.296875 \nQ 39.15625 29.25 43.1875 25.515625 \nQ 47.21875 21.78125 47.21875 15.09375 \nQ 47.21875 7.46875 41.1875 3.015625 \nQ 35.15625 -1.421875 24.609375 -1.421875 \nQ 20.21875 -1.421875 15.453125 -0.5625 \nQ 10.6875 0.296875 5.421875 2 \nL 5.421875 11.28125 \nQ 10.40625 8.6875 15.234375 7.390625 \nQ 20.0625 6.109375 24.8125 6.109375 \nQ 31.15625 6.109375 34.5625 8.28125 \nQ 37.984375 10.453125 37.984375 14.40625 \nQ 37.984375 18.0625 35.515625 20.015625 \nQ 33.0625 21.96875 24.703125 23.78125 \nL 21.578125 24.515625 \nQ 13.234375 26.265625 9.515625 29.90625 \nQ 5.8125 33.546875 5.8125 39.890625 \nQ 5.8125 47.609375 11.28125 51.796875 \nQ 16.75 56 26.8125 56 \nQ 31.78125 56 36.171875 55.265625 \nQ 40.578125 54.546875 44.28125 53.078125 \nz\n\" id=\"DejaVuSans-115\"/>\n      </defs>\n      <use xlink:href=\"#DejaVuSans-72\"/>\n      <use x=\"75.195312\" xlink:href=\"#DejaVuSans-97\"/>\n      <use x=\"136.474609\" xlink:href=\"#DejaVuSans-112\"/>\n      <use x=\"199.951172\" xlink:href=\"#DejaVuSans-112\"/>\n      <use x=\"263.427734\" xlink:href=\"#DejaVuSans-105\"/>\n      <use x=\"291.210938\" xlink:href=\"#DejaVuSans-110\"/>\n      <use x=\"354.589844\" xlink:href=\"#DejaVuSans-101\"/>\n      <use x=\"416.113281\" xlink:href=\"#DejaVuSans-115\"/>\n      <use x=\"468.212891\" xlink:href=\"#DejaVuSans-115\"/>\n     </g>\n    </g>\n   </g>\n   <g id=\"patch_3\">\n    <path d=\"M 57.765937 239.758125 \nL 57.765937 22.318125 \n\" style=\"fill:none;stroke:#000000;stroke-linecap:square;stroke-linejoin:miter;stroke-width:0.8;\"/>\n   </g>\n   <g id=\"patch_4\">\n    <path d=\"M 392.565938 239.758125 \nL 392.565938 22.318125 \n\" style=\"fill:none;stroke:#000000;stroke-linecap:square;stroke-linejoin:miter;stroke-width:0.8;\"/>\n   </g>\n   <g id=\"patch_5\">\n    <path d=\"M 57.765937 239.758125 \nL 392.565938 239.758125 \n\" style=\"fill:none;stroke:#000000;stroke-linecap:square;stroke-linejoin:miter;stroke-width:0.8;\"/>\n   </g>\n   <g id=\"patch_6\">\n    <path d=\"M 57.765937 22.318125 \nL 392.565938 22.318125 \n\" style=\"fill:none;stroke:#000000;stroke-linecap:square;stroke-linejoin:miter;stroke-width:0.8;\"/>\n   </g>\n   <g id=\"text_21\">\n    <!-- Correlation Between Happiness and Social Supportlm.fit(x_train, y_train) -->\n    <g transform=\"translate(7.2 16.318125)scale(0.12 -0.12)\">\n     <defs>\n      <path d=\"M 64.40625 67.28125 \nL 64.40625 56.890625 \nQ 59.421875 61.53125 53.78125 63.8125 \nQ 48.140625 66.109375 41.796875 66.109375 \nQ 29.296875 66.109375 22.65625 58.46875 \nQ 16.015625 50.828125 16.015625 36.375 \nQ 16.015625 21.96875 22.65625 14.328125 \nQ 29.296875 6.6875 41.796875 6.6875 \nQ 48.140625 6.6875 53.78125 8.984375 \nQ 59.421875 11.28125 64.40625 15.921875 \nL 64.40625 5.609375 \nQ 59.234375 2.09375 53.4375 0.328125 \nQ 47.65625 -1.421875 41.21875 -1.421875 \nQ 24.65625 -1.421875 15.125 8.703125 \nQ 5.609375 18.84375 5.609375 36.375 \nQ 5.609375 53.953125 15.125 64.078125 \nQ 24.65625 74.21875 41.21875 74.21875 \nQ 47.75 74.21875 53.53125 72.484375 \nQ 59.328125 70.75 64.40625 67.28125 \nz\n\" id=\"DejaVuSans-67\"/>\n      <path d=\"M 19.671875 34.8125 \nL 19.671875 8.109375 \nL 35.5 8.109375 \nQ 43.453125 8.109375 47.28125 11.40625 \nQ 51.125 14.703125 51.125 21.484375 \nQ 51.125 28.328125 47.28125 31.5625 \nQ 43.453125 34.8125 35.5 34.8125 \nz\nM 19.671875 64.796875 \nL 19.671875 42.828125 \nL 34.28125 42.828125 \nQ 41.5 42.828125 45.03125 45.53125 \nQ 48.578125 48.25 48.578125 53.8125 \nQ 48.578125 59.328125 45.03125 62.0625 \nQ 41.5 64.796875 34.28125 64.796875 \nz\nM 9.8125 72.90625 \nL 35.015625 72.90625 \nQ 46.296875 72.90625 52.390625 68.21875 \nQ 58.5 63.53125 58.5 54.890625 \nQ 58.5 48.1875 55.375 44.234375 \nQ 52.25 40.28125 46.1875 39.3125 \nQ 53.46875 37.75 57.5 32.78125 \nQ 61.53125 27.828125 61.53125 20.40625 \nQ 61.53125 10.640625 54.890625 5.3125 \nQ 48.25 0 35.984375 0 \nL 9.8125 0 \nz\n\" id=\"DejaVuSans-66\"/>\n      <path d=\"M 4.203125 54.6875 \nL 13.1875 54.6875 \nL 24.421875 12.015625 \nL 35.59375 54.6875 \nL 46.1875 54.6875 \nL 57.421875 12.015625 \nL 68.609375 54.6875 \nL 77.59375 54.6875 \nL 63.28125 0 \nL 52.6875 0 \nL 40.921875 44.828125 \nL 29.109375 0 \nL 18.5 0 \nz\n\" id=\"DejaVuSans-119\"/>\n      <path d=\"M 45.40625 46.390625 \nL 45.40625 75.984375 \nL 54.390625 75.984375 \nL 54.390625 0 \nL 45.40625 0 \nL 45.40625 8.203125 \nQ 42.578125 3.328125 38.25 0.953125 \nQ 33.9375 -1.421875 27.875 -1.421875 \nQ 17.96875 -1.421875 11.734375 6.484375 \nQ 5.515625 14.40625 5.515625 27.296875 \nQ 5.515625 40.1875 11.734375 48.09375 \nQ 17.96875 56 27.875 56 \nQ 33.9375 56 38.25 53.625 \nQ 42.578125 51.265625 45.40625 46.390625 \nz\nM 14.796875 27.296875 \nQ 14.796875 17.390625 18.875 11.75 \nQ 22.953125 6.109375 30.078125 6.109375 \nQ 37.203125 6.109375 41.296875 11.75 \nQ 45.40625 17.390625 45.40625 27.296875 \nQ 45.40625 37.203125 41.296875 42.84375 \nQ 37.203125 48.484375 30.078125 48.484375 \nQ 22.953125 48.484375 18.875 42.84375 \nQ 14.796875 37.203125 14.796875 27.296875 \nz\n\" id=\"DejaVuSans-100\"/>\n      <path d=\"M 52 44.1875 \nQ 55.375 50.25 60.0625 53.125 \nQ 64.75 56 71.09375 56 \nQ 79.640625 56 84.28125 50.015625 \nQ 88.921875 44.046875 88.921875 33.015625 \nL 88.921875 0 \nL 79.890625 0 \nL 79.890625 32.71875 \nQ 79.890625 40.578125 77.09375 44.375 \nQ 74.3125 48.1875 68.609375 48.1875 \nQ 61.625 48.1875 57.5625 43.546875 \nQ 53.515625 38.921875 53.515625 30.90625 \nL 53.515625 0 \nL 44.484375 0 \nL 44.484375 32.71875 \nQ 44.484375 40.625 41.703125 44.40625 \nQ 38.921875 48.1875 33.109375 48.1875 \nQ 26.21875 48.1875 22.15625 43.53125 \nQ 18.109375 38.875 18.109375 30.90625 \nL 18.109375 0 \nL 9.078125 0 \nL 9.078125 54.6875 \nL 18.109375 54.6875 \nL 18.109375 46.1875 \nQ 21.1875 51.21875 25.484375 53.609375 \nQ 29.78125 56 35.6875 56 \nQ 41.65625 56 45.828125 52.96875 \nQ 50 49.953125 52 44.1875 \nz\n\" id=\"DejaVuSans-109\"/>\n      <path d=\"M 10.6875 12.40625 \nL 21 12.40625 \nL 21 0 \nL 10.6875 0 \nz\n\" id=\"DejaVuSans-46\"/>\n      <path d=\"M 37.109375 75.984375 \nL 37.109375 68.5 \nL 28.515625 68.5 \nQ 23.6875 68.5 21.796875 66.546875 \nQ 19.921875 64.59375 19.921875 59.515625 \nL 19.921875 54.6875 \nL 34.71875 54.6875 \nL 34.71875 47.703125 \nL 19.921875 47.703125 \nL 19.921875 0 \nL 10.890625 0 \nL 10.890625 47.703125 \nL 2.296875 47.703125 \nL 2.296875 54.6875 \nL 10.890625 54.6875 \nL 10.890625 58.5 \nQ 10.890625 67.625 15.140625 71.796875 \nQ 19.390625 75.984375 28.609375 75.984375 \nz\n\" id=\"DejaVuSans-102\"/>\n      <path d=\"M 31 75.875 \nQ 24.46875 64.65625 21.28125 53.65625 \nQ 18.109375 42.671875 18.109375 31.390625 \nQ 18.109375 20.125 21.3125 9.0625 \nQ 24.515625 -2 31 -13.1875 \nL 23.1875 -13.1875 \nQ 15.875 -1.703125 12.234375 9.375 \nQ 8.59375 20.453125 8.59375 31.390625 \nQ 8.59375 42.28125 12.203125 53.3125 \nQ 15.828125 64.359375 23.1875 75.875 \nz\n\" id=\"DejaVuSans-40\"/>\n      <path d=\"M 54.890625 54.6875 \nL 35.109375 28.078125 \nL 55.90625 0 \nL 45.3125 0 \nL 29.390625 21.484375 \nL 13.484375 0 \nL 2.875 0 \nL 24.125 28.609375 \nL 4.6875 54.6875 \nL 15.28125 54.6875 \nL 29.78125 35.203125 \nL 44.28125 54.6875 \nz\n\" id=\"DejaVuSans-120\"/>\n      <path d=\"M 50.984375 -16.609375 \nL 50.984375 -23.578125 \nL -0.984375 -23.578125 \nL -0.984375 -16.609375 \nz\n\" id=\"DejaVuSans-95\"/>\n      <path d=\"M 11.71875 12.40625 \nL 22.015625 12.40625 \nL 22.015625 4 \nL 14.015625 -11.625 \nL 7.71875 -11.625 \nL 11.71875 4 \nz\n\" id=\"DejaVuSans-44\"/>\n      <path d=\"M 32.171875 -5.078125 \nQ 28.375 -14.84375 24.75 -17.8125 \nQ 21.140625 -20.796875 15.09375 -20.796875 \nL 7.90625 -20.796875 \nL 7.90625 -13.28125 \nL 13.1875 -13.28125 \nQ 16.890625 -13.28125 18.9375 -11.515625 \nQ 21 -9.765625 23.484375 -3.21875 \nL 25.09375 0.875 \nL 2.984375 54.6875 \nL 12.5 54.6875 \nL 29.59375 11.921875 \nL 46.6875 54.6875 \nL 56.203125 54.6875 \nz\n\" id=\"DejaVuSans-121\"/>\n      <path d=\"M 8.015625 75.875 \nL 15.828125 75.875 \nQ 23.140625 64.359375 26.78125 53.3125 \nQ 30.421875 42.28125 30.421875 31.390625 \nQ 30.421875 20.453125 26.78125 9.375 \nQ 23.140625 -1.703125 15.828125 -13.1875 \nL 8.015625 -13.1875 \nQ 14.5 -2 17.703125 9.0625 \nQ 20.90625 20.125 20.90625 31.390625 \nQ 20.90625 42.671875 17.703125 53.65625 \nQ 14.5 64.65625 8.015625 75.875 \nz\n\" id=\"DejaVuSans-41\"/>\n     </defs>\n     <use xlink:href=\"#DejaVuSans-67\"/>\n     <use x=\"69.824219\" xlink:href=\"#DejaVuSans-111\"/>\n     <use x=\"131.005859\" xlink:href=\"#DejaVuSans-114\"/>\n     <use x=\"170.369141\" xlink:href=\"#DejaVuSans-114\"/>\n     <use x=\"209.232422\" xlink:href=\"#DejaVuSans-101\"/>\n     <use x=\"270.755859\" xlink:href=\"#DejaVuSans-108\"/>\n     <use x=\"298.539062\" xlink:href=\"#DejaVuSans-97\"/>\n     <use x=\"359.818359\" xlink:href=\"#DejaVuSans-116\"/>\n     <use x=\"399.027344\" xlink:href=\"#DejaVuSans-105\"/>\n     <use x=\"426.810547\" xlink:href=\"#DejaVuSans-111\"/>\n     <use x=\"487.992188\" xlink:href=\"#DejaVuSans-110\"/>\n     <use x=\"551.371094\" xlink:href=\"#DejaVuSans-32\"/>\n     <use x=\"583.158203\" xlink:href=\"#DejaVuSans-66\"/>\n     <use x=\"651.761719\" xlink:href=\"#DejaVuSans-101\"/>\n     <use x=\"713.285156\" xlink:href=\"#DejaVuSans-116\"/>\n     <use x=\"752.494141\" xlink:href=\"#DejaVuSans-119\"/>\n     <use x=\"834.28125\" xlink:href=\"#DejaVuSans-101\"/>\n     <use x=\"895.804688\" xlink:href=\"#DejaVuSans-101\"/>\n     <use x=\"957.328125\" xlink:href=\"#DejaVuSans-110\"/>\n     <use x=\"1020.707031\" xlink:href=\"#DejaVuSans-32\"/>\n     <use x=\"1052.494141\" xlink:href=\"#DejaVuSans-72\"/>\n     <use x=\"1127.689453\" xlink:href=\"#DejaVuSans-97\"/>\n     <use x=\"1188.96875\" xlink:href=\"#DejaVuSans-112\"/>\n     <use x=\"1252.445312\" xlink:href=\"#DejaVuSans-112\"/>\n     <use x=\"1315.921875\" xlink:href=\"#DejaVuSans-105\"/>\n     <use x=\"1343.705078\" xlink:href=\"#DejaVuSans-110\"/>\n     <use x=\"1407.083984\" xlink:href=\"#DejaVuSans-101\"/>\n     <use x=\"1468.607422\" xlink:href=\"#DejaVuSans-115\"/>\n     <use x=\"1520.707031\" xlink:href=\"#DejaVuSans-115\"/>\n     <use x=\"1572.806641\" xlink:href=\"#DejaVuSans-32\"/>\n     <use x=\"1604.59375\" xlink:href=\"#DejaVuSans-97\"/>\n     <use x=\"1665.873047\" xlink:href=\"#DejaVuSans-110\"/>\n     <use x=\"1729.251953\" xlink:href=\"#DejaVuSans-100\"/>\n     <use x=\"1792.728516\" xlink:href=\"#DejaVuSans-32\"/>\n     <use x=\"1824.515625\" xlink:href=\"#DejaVuSans-83\"/>\n     <use x=\"1887.992188\" xlink:href=\"#DejaVuSans-111\"/>\n     <use x=\"1949.173828\" xlink:href=\"#DejaVuSans-99\"/>\n     <use x=\"2004.154297\" xlink:href=\"#DejaVuSans-105\"/>\n     <use x=\"2031.9375\" xlink:href=\"#DejaVuSans-97\"/>\n     <use x=\"2093.216797\" xlink:href=\"#DejaVuSans-108\"/>\n     <use x=\"2121\" xlink:href=\"#DejaVuSans-32\"/>\n     <use x=\"2152.787109\" xlink:href=\"#DejaVuSans-83\"/>\n     <use x=\"2216.263672\" xlink:href=\"#DejaVuSans-117\"/>\n     <use x=\"2279.642578\" xlink:href=\"#DejaVuSans-112\"/>\n     <use x=\"2343.119141\" xlink:href=\"#DejaVuSans-112\"/>\n     <use x=\"2406.595703\" xlink:href=\"#DejaVuSans-111\"/>\n     <use x=\"2467.777344\" xlink:href=\"#DejaVuSans-114\"/>\n     <use x=\"2508.890625\" xlink:href=\"#DejaVuSans-116\"/>\n     <use x=\"2548.099609\" xlink:href=\"#DejaVuSans-108\"/>\n     <use x=\"2575.882812\" xlink:href=\"#DejaVuSans-109\"/>\n     <use x=\"2673.294922\" xlink:href=\"#DejaVuSans-46\"/>\n     <use x=\"2705.082031\" xlink:href=\"#DejaVuSans-102\"/>\n     <use x=\"2740.287109\" xlink:href=\"#DejaVuSans-105\"/>\n     <use x=\"2768.070312\" xlink:href=\"#DejaVuSans-116\"/>\n     <use x=\"2807.279297\" xlink:href=\"#DejaVuSans-40\"/>\n     <use x=\"2846.292969\" xlink:href=\"#DejaVuSans-120\"/>\n     <use x=\"2905.472656\" xlink:href=\"#DejaVuSans-95\"/>\n     <use x=\"2955.472656\" xlink:href=\"#DejaVuSans-116\"/>\n     <use x=\"2994.681641\" xlink:href=\"#DejaVuSans-114\"/>\n     <use x=\"3035.794922\" xlink:href=\"#DejaVuSans-97\"/>\n     <use x=\"3097.074219\" xlink:href=\"#DejaVuSans-105\"/>\n     <use x=\"3124.857422\" xlink:href=\"#DejaVuSans-110\"/>\n     <use x=\"3188.236328\" xlink:href=\"#DejaVuSans-44\"/>\n     <use x=\"3220.023438\" xlink:href=\"#DejaVuSans-32\"/>\n     <use x=\"3251.810547\" xlink:href=\"#DejaVuSans-121\"/>\n     <use x=\"3310.990234\" xlink:href=\"#DejaVuSans-95\"/>\n     <use x=\"3360.990234\" xlink:href=\"#DejaVuSans-116\"/>\n     <use x=\"3400.199219\" xlink:href=\"#DejaVuSans-114\"/>\n     <use x=\"3441.3125\" xlink:href=\"#DejaVuSans-97\"/>\n     <use x=\"3502.591797\" xlink:href=\"#DejaVuSans-105\"/>\n     <use x=\"3530.375\" xlink:href=\"#DejaVuSans-110\"/>\n     <use x=\"3593.753906\" xlink:href=\"#DejaVuSans-41\"/>\n    </g>\n   </g>\n  </g>\n </g>\n <defs>\n  <clipPath id=\"p4a727fcf5f\">\n   <rect height=\"217.44\" width=\"334.8\" x=\"57.765937\" y=\"22.318125\"/>\n  </clipPath>\n </defs>\n</svg>\n",
      "image/png": "[encoded data removed]"
     },
     "metadata": {
      "needs_background": "light"
     }
    }
   ],
   "source": [
    "plt.scatter(x_train, y_train, color='red')\n",
    "plt.xlabel('Social Support')\n",
    "plt.ylabel('Happiness')\n",
    "plt.title(\"Correlation Between Happiness and Social Support\")\n",
    "plt.show()\n",
    "\n"
   ]
  },
  {
   "cell_type": "code",
   "execution_count": null,
   "metadata": {},
   "outputs": [],
   "source": [
    "lm = LinearRegression()\n",
    "lm.fit(x_train, y_train)\n",
    "print(f'Train Accuracy {round(lm.score(x_train, y_train)* 100,2)}%')\n",
    "print(f'Test Accuracy {round(lm.score(x_test, y_test)* 100,2)}%')"
   ]
  },
  {
   "cell_type": "code",
   "execution_count": null,
   "metadata": {},
   "outputs": [],
   "source": [
    "y_predict = lm.predict(x_test)"
   ]
  },
  {
   "cell_type": "code",
   "execution_count": null,
   "metadata": {},
   "outputs": [],
   "source": [
    "plt.scatter(x_train, y_train, color='red')\n",
    "plt.plot(x_test, y_predict)\n",
    "plt.xlabel('Social Support')\n",
    "plt.ylabel('Training Model')\n",
    "plt.plot"
   ]
  },
  {
   "source": [
    "## Conclusions\n",
    "1. There is a clear relationship between social support and overall happiness/life satisfaction (measured by Cantril Ladder) \n",
    "2. Looking at the plot, it is clear that social support alone cannot accurately predict overall happiness/life satisfaction.\n",
    "3. Just as there are many data points that support this correlation, there are also many outliers. This supports the above notion that social support alone is not a definitive predictor of happiness/life satisfaction. "
   ],
   "cell_type": "markdown",
   "metadata": {}
  }
 ]
}